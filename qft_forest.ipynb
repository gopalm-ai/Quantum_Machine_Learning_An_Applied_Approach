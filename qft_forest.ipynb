{
  "nbformat": 4,
  "nbformat_minor": 0,
  "metadata": {
    "colab": {
      "name": "qft_forest.ipynb",
      "provenance": [],
      "collapsed_sections": [],
      "authorship_tag": "ABX9TyNcekn68ZqWqpUCe2Zlm4Kw",
      "include_colab_link": true
    },
    "kernelspec": {
      "name": "python3",
      "display_name": "Python 3"
    },
    "language_info": {
      "name": "python"
    }
  },
  "cells": [
    {
      "cell_type": "markdown",
      "metadata": {
        "id": "view-in-github",
        "colab_type": "text"
      },
      "source": [
        "<a href=\"https://colab.research.google.com/github/gopalm-ai/Quantum_Machine_Learning_An_Applied_Approach/blob/main/qft_forest.ipynb\" target=\"_parent\"><img src=\"https://colab.research.google.com/assets/colab-badge.svg\" alt=\"Open In Colab\"/></a>"
      ]
    },
    {
      "cell_type": "code",
      "metadata": {
        "id": "v7StdtaVxGcQ",
        "colab": {
          "base_uri": "https://localhost:8080/"
        },
        "outputId": "5e11b05a-29f4-4b7e-a23a-2e10a3afeb18"
      },
      "source": [
        "# Import Libraries\n",
        "! pip3 install pyquil\n",
        "! pip3 install qutip"
      ],
      "execution_count": 8,
      "outputs": [
        {
          "output_type": "stream",
          "name": "stdout",
          "text": [
            "Requirement already satisfied: pyquil in /usr/local/lib/python3.7/dist-packages (3.0.1)\n",
            "Requirement already satisfied: rpcq<4.0.0,>=3.6.0 in /usr/local/lib/python3.7/dist-packages (from pyquil) (3.9.2)\n",
            "Requirement already satisfied: lark<0.12.0,>=0.11.1 in /usr/local/lib/python3.7/dist-packages (from pyquil) (0.11.3)\n",
            "Requirement already satisfied: importlib-metadata<4.0.0,>=3.7.3 in /usr/local/lib/python3.7/dist-packages (from pyquil) (3.10.1)\n",
            "Requirement already satisfied: qcs-api-client<0.9.0,>=0.8.0 in /usr/local/lib/python3.7/dist-packages (from pyquil) (0.8.0)\n",
            "Requirement already satisfied: networkx<3.0,>=2.5 in /usr/local/lib/python3.7/dist-packages (from pyquil) (2.6.3)\n",
            "Requirement already satisfied: numpy<2.0,>=1.20 in /usr/local/lib/python3.7/dist-packages (from pyquil) (1.21.5)\n",
            "Requirement already satisfied: retry<0.10.0,>=0.9.2 in /usr/local/lib/python3.7/dist-packages (from pyquil) (0.9.2)\n",
            "Requirement already satisfied: scipy<2.0.0,>=1.6.1 in /usr/local/lib/python3.7/dist-packages (from pyquil) (1.7.3)\n",
            "Requirement already satisfied: zipp>=0.5 in /usr/local/lib/python3.7/dist-packages (from importlib-metadata<4.0.0,>=3.7.3->pyquil) (3.7.0)\n",
            "Requirement already satisfied: typing-extensions>=3.6.4 in /usr/local/lib/python3.7/dist-packages (from importlib-metadata<4.0.0,>=3.7.3->pyquil) (3.10.0.2)\n",
            "Requirement already satisfied: attrs<21.0.0,>=20.1.0 in /usr/local/lib/python3.7/dist-packages (from qcs-api-client<0.9.0,>=0.8.0->pyquil) (20.3.0)\n",
            "Requirement already satisfied: python-dateutil<3.0.0,>=2.8.1 in /usr/local/lib/python3.7/dist-packages (from qcs-api-client<0.9.0,>=0.8.0->pyquil) (2.8.2)\n",
            "Requirement already satisfied: pydantic<2.0.0,>=1.7.2 in /usr/local/lib/python3.7/dist-packages (from qcs-api-client<0.9.0,>=0.8.0->pyquil) (1.8.2)\n",
            "Requirement already satisfied: toml<0.11.0,>=0.10.2 in /usr/local/lib/python3.7/dist-packages (from qcs-api-client<0.9.0,>=0.8.0->pyquil) (0.10.2)\n",
            "Requirement already satisfied: rfc3339<7.0,>=6.2 in /usr/local/lib/python3.7/dist-packages (from qcs-api-client<0.9.0,>=0.8.0->pyquil) (6.2)\n",
            "Requirement already satisfied: pyjwt<2.0.0,>=1.7.1 in /usr/local/lib/python3.7/dist-packages (from qcs-api-client<0.9.0,>=0.8.0->pyquil) (1.7.1)\n",
            "Requirement already satisfied: httpx<0.16.0,>=0.15.0 in /usr/local/lib/python3.7/dist-packages (from qcs-api-client<0.9.0,>=0.8.0->pyquil) (0.15.5)\n",
            "Requirement already satisfied: retrying<2.0.0,>=1.3.3 in /usr/local/lib/python3.7/dist-packages (from qcs-api-client<0.9.0,>=0.8.0->pyquil) (1.3.3)\n",
            "Requirement already satisfied: iso8601<0.2.0,>=0.1.13 in /usr/local/lib/python3.7/dist-packages (from qcs-api-client<0.9.0,>=0.8.0->pyquil) (0.1.16)\n",
            "Requirement already satisfied: httpcore==0.11.* in /usr/local/lib/python3.7/dist-packages (from httpx<0.16.0,>=0.15.0->qcs-api-client<0.9.0,>=0.8.0->pyquil) (0.11.1)\n",
            "Requirement already satisfied: sniffio in /usr/local/lib/python3.7/dist-packages (from httpx<0.16.0,>=0.15.0->qcs-api-client<0.9.0,>=0.8.0->pyquil) (1.2.0)\n",
            "Requirement already satisfied: rfc3986[idna2008]<2,>=1.3 in /usr/local/lib/python3.7/dist-packages (from httpx<0.16.0,>=0.15.0->qcs-api-client<0.9.0,>=0.8.0->pyquil) (1.5.0)\n",
            "Requirement already satisfied: certifi in /usr/local/lib/python3.7/dist-packages (from httpx<0.16.0,>=0.15.0->qcs-api-client<0.9.0,>=0.8.0->pyquil) (2021.5.30)\n",
            "Requirement already satisfied: h11<0.10,>=0.8 in /usr/local/lib/python3.7/dist-packages (from httpcore==0.11.*->httpx<0.16.0,>=0.15.0->qcs-api-client<0.9.0,>=0.8.0->pyquil) (0.9.0)\n",
            "Requirement already satisfied: six>=1.5 in /usr/local/lib/python3.7/dist-packages (from python-dateutil<3.0.0,>=2.8.1->qcs-api-client<0.9.0,>=0.8.0->pyquil) (1.16.0)\n",
            "Requirement already satisfied: decorator>=3.4.2 in /usr/local/lib/python3.7/dist-packages (from retry<0.10.0,>=0.9.2->pyquil) (4.4.2)\n",
            "Requirement already satisfied: py<2.0.0,>=1.4.26 in /usr/local/lib/python3.7/dist-packages (from retry<0.10.0,>=0.9.2->pyquil) (1.11.0)\n",
            "Requirement already satisfied: idna in /usr/local/lib/python3.7/dist-packages (from rfc3986[idna2008]<2,>=1.3->httpx<0.16.0,>=0.15.0->qcs-api-client<0.9.0,>=0.8.0->pyquil) (2.10)\n",
            "Requirement already satisfied: msgpack<1.0,>=0.6 in /usr/local/lib/python3.7/dist-packages (from rpcq<4.0.0,>=3.6.0->pyquil) (0.6.2)\n",
            "Requirement already satisfied: pyzmq>=17 in /usr/local/lib/python3.7/dist-packages (from rpcq<4.0.0,>=3.6.0->pyquil) (22.3.0)\n",
            "Requirement already satisfied: python-rapidjson in /usr/local/lib/python3.7/dist-packages (from rpcq<4.0.0,>=3.6.0->pyquil) (1.5)\n",
            "Requirement already satisfied: ruamel.yaml in /usr/local/lib/python3.7/dist-packages (from rpcq<4.0.0,>=3.6.0->pyquil) (0.17.20)\n",
            "Requirement already satisfied: ruamel.yaml.clib>=0.2.6 in /usr/local/lib/python3.7/dist-packages (from ruamel.yaml->rpcq<4.0.0,>=3.6.0->pyquil) (0.2.6)\n",
            "Collecting qutip\n",
            "  Downloading qutip-4.6.2-cp37-cp37m-manylinux2010_x86_64.whl (14.6 MB)\n",
            "\u001b[K     |████████████████████████████████| 14.6 MB 6.7 MB/s \n",
            "\u001b[?25hRequirement already satisfied: numpy>=1.16.6 in /usr/local/lib/python3.7/dist-packages (from qutip) (1.21.5)\n",
            "Requirement already satisfied: packaging in /usr/local/lib/python3.7/dist-packages (from qutip) (21.3)\n",
            "Requirement already satisfied: scipy>=1.0 in /usr/local/lib/python3.7/dist-packages (from qutip) (1.7.3)\n",
            "Requirement already satisfied: pyparsing!=3.0.5,>=2.0.2 in /usr/local/lib/python3.7/dist-packages (from packaging->qutip) (3.0.6)\n",
            "Installing collected packages: qutip\n",
            "Successfully installed qutip-4.6.2\n"
          ]
        }
      ]
    },
    {
      "cell_type": "code",
      "source": [
        "from pyquil import get_qc, Program\n",
        "from pyquil.gates import CNOT, Z, MEASURE\n",
        "from pyquil.api import local_forest_runtime"
      ],
      "metadata": {
        "id": "fRoR-Y36ySnk"
      },
      "execution_count": 2,
      "outputs": []
    },
    {
      "cell_type": "code",
      "source": [
        "import cirq\n",
        "print(cirq.__version__)"
      ],
      "metadata": {
        "colab": {
          "base_uri": "https://localhost:8080/"
        },
        "id": "vNU41IbmSvb_",
        "outputId": "176a1a88-2c93-40d7-a929-a647ba04257b"
      },
      "execution_count": 3,
      "outputs": [
        {
          "output_type": "stream",
          "name": "stdout",
          "text": [
            "0.13.1\n"
          ]
        }
      ]
    },
    {
      "cell_type": "code",
      "source": [
        "! [ -z \"$(which qvm)\" ] &&\\\n",
        "  apt update &&\\\n",
        "  apt install jq &&\\\n",
        "  export LATEST_FOREST_SDK_VERSION=$(curl -s https://downloads.rigetti.com/qcs-sdk/versions | jq -r '.versions[0].sdk') &&\\\n",
        "  curl -f https://downloads.rigetti.com/qcs-sdk/forest-sdk-$LATEST_FOREST_SDK_VERSION-linux-deb.tar.bz2 -o $PWD/forest-sdk-$LATEST_FOREST_SDK_VERSION-linux-deb.tar.bz2 &&\\\n",
        "  tar -xf forest-sdk-$LATEST_FOREST_SDK_VERSION-linux-deb.tar.bz2 &&\\\n",
        "  ./forest-sdk-$LATEST_FOREST_SDK_VERSION-linux-deb/forest-sdk-$LATEST_FOREST_SDK_VERSION-linux-deb.run &&\\\n",
        "  quilc --version &&\\\n",
        "  qvm --version"
      ],
      "metadata": {
        "id": "WbB-UdBVSveV"
      },
      "execution_count": 4,
      "outputs": []
    },
    {
      "cell_type": "code",
      "source": [
        "import subprocess\n",
        "\n",
        "subprocess.Popen([\"qvm\", \"--quiet\", \"-S\"])\n",
        "subprocess.Popen([\"quilc\", \"--quiet\", \"-R\"])"
      ],
      "metadata": {
        "colab": {
          "base_uri": "https://localhost:8080/"
        },
        "id": "RTJB6o8ZU5uW",
        "outputId": "793308cc-5c05-4ee4-c6b0-eca7a8afc297"
      },
      "execution_count": 9,
      "outputs": [
        {
          "output_type": "execute_result",
          "data": {
            "text/plain": [
              "<subprocess.Popen at 0x7f389ff84fd0>"
            ]
          },
          "metadata": {},
          "execution_count": 9
        }
      ]
    },
    {
      "cell_type": "code",
      "source": [
        "from pyquil import Program, get_qc\n",
        "from pyquil.gates import *\n",
        "import cmath\n",
        "import matplotlib.pyplot as plt\n",
        "import numpy as np\n",
        "from pyquil.api import QCSClientConfiguration, EngagementManager\n",
        "from pyquil.api import WavefunctionSimulator\n",
        "from pyquil.api import QVM\n",
        "from qutip import Bloch\n",
        "from tempfile import mkdtemp\n",
        "qvm = QVM()"
      ],
      "metadata": {
        "id": "ne2DWOZeYK5A"
      },
      "execution_count": 13,
      "outputs": []
    },
    {
      "cell_type": "code",
      "source": [
        "prog = Program(Z(0), CNOT(0, 1))\n",
        "with local_forest_runtime():\n",
        "  qvm = get_qc('9q-square-qvm')\n",
        "  #results = qvm.run_and_measure(prog, trials=10)\n",
        "  results = qvm.run(prog)\n",
        "  bitstring = results.readout_data.get(\"ro\")\n",
        "  print(bitstring)"
      ],
      "metadata": {
        "colab": {
          "base_uri": "https://localhost:8080/"
        },
        "id": "oo_2b2IxPGeS",
        "outputId": "2cc5cbd7-165d-4dd4-e8d9-23a87d55a800"
      },
      "execution_count": 14,
      "outputs": [
        {
          "output_type": "stream",
          "name": "stdout",
          "text": [
            "None\n"
          ]
        },
        {
          "output_type": "stream",
          "name": "stderr",
          "text": [
            "/usr/local/lib/python3.7/dist-packages/pyquil/api/_quantum_computer.py:957: RuntimeWarning: Unable to start qvm server, since the specified port 5000 is in use.\n",
            "  warnings.warn(RuntimeWarning(warning_msg))\n",
            "/usr/local/lib/python3.7/dist-packages/pyquil/api/_quantum_computer.py:964: RuntimeWarning: Unable to start quilc server, since the specified port 5555 is in use.\n",
            "  warnings.warn(RuntimeWarning(warning_msg))\n"
          ]
        }
      ]
    },
    {
      "cell_type": "code",
      "source": [
        "import math\n",
        "from math import pi"
      ],
      "metadata": {
        "id": "ZzkJFlbze4ZM"
      },
      "execution_count": 21,
      "outputs": []
    },
    {
      "cell_type": "code",
      "source": [
        "# Quantum Fourier Transform\n",
        "state_prep = Program(X(0))\n",
        "qft = Program()\n",
        "qft += H(0)\n",
        "qft += CPHASE(pi/2, 1, 0)\n",
        "qft += H(1)\n",
        "qft += CPHASE(pi/4, 2, 0)\n",
        "qft += CPHASE(pi/2, 2, 1)\n",
        "qft += H(2)"
      ],
      "metadata": {
        "id": "QfFKmuf6oU_3"
      },
      "execution_count": 22,
      "outputs": []
    },
    {
      "cell_type": "code",
      "source": [
        "# Add dummy qubits\n",
        "from pyquil.api import WavefunctionSimulator\n",
        "add_dummy_qubits = Program(I(1), I(2))\n",
        "# Identity gate I has no effect\n",
        "wf_sim = WavefunctionSimulator()\n",
        "wavefunction = wf_sim.wavefunction(state_prep + add_dummy_qubits)\n",
        "print(wavefunction)"
      ],
      "metadata": {
        "colab": {
          "base_uri": "https://localhost:8080/"
        },
        "id": "qd9PcsRIoVCe",
        "outputId": "d983e06f-1826-45a6-b50b-3034c921c5eb"
      },
      "execution_count": 23,
      "outputs": [
        {
          "output_type": "stream",
          "name": "stdout",
          "text": [
            "(1+0j)|001>\n"
          ]
        }
      ]
    },
    {
      "cell_type": "code",
      "source": [
        "# 3 qubit QFT Program: DFT of [0, 1, 0, 0, 0, 0, 0, 0], using PyQuil:\n",
        "def qft1(q0, q1, q2):\n",
        "  p = Program()\n",
        "  p += [SWAP(q0, q2), \n",
        "        H(q0), \n",
        "        CPHASE(-pi/2.0, q0, q1),\n",
        "        H(q1),\n",
        "        CPHASE(-pi/4.0, q0, q2),\n",
        "        CPHASE(-pi/2.0, q1, q2),\n",
        "        H(q2)]\n",
        "  return p\n",
        "\n",
        "print(qft1(0, 1, 2))"
      ],
      "metadata": {
        "colab": {
          "base_uri": "https://localhost:8080/"
        },
        "id": "JsGBya6Of-wl",
        "outputId": "8c98091f-866d-4af1-adb9-ffd446aae99b"
      },
      "execution_count": 24,
      "outputs": [
        {
          "output_type": "stream",
          "name": "stdout",
          "text": [
            "SWAP 0 2\n",
            "H 0\n",
            "CPHASE(-pi/2) 0 1\n",
            "H 1\n",
            "CPHASE(-pi/4) 0 2\n",
            "CPHASE(-pi/2) 1 2\n",
            "H 2\n",
            "\n"
          ]
        }
      ]
    },
    {
      "cell_type": "code",
      "source": [
        "compute_qft_prog = state_prep + qft1(0, 1, 2)\n",
        "wavefunction = wf_sim.wavefunction(compute_qft_prog)\n",
        "print(wavefunction.amplitudes)"
      ],
      "metadata": {
        "colab": {
          "base_uri": "https://localhost:8080/"
        },
        "id": "6291Ouf8gFc3",
        "outputId": "fd7d37b9-18b9-488c-9244-201586a0b6b3"
      },
      "execution_count": 25,
      "outputs": [
        {
          "output_type": "stream",
          "name": "stdout",
          "text": [
            "[ 3.53553391e-01+0.j          2.50000000e-01-0.25j\n",
            "  2.16489014e-17-0.35355339j -2.50000000e-01-0.25j\n",
            " -3.53553391e-01+0.j         -2.50000000e-01+0.25j\n",
            " -2.16489014e-17+0.35355339j  2.50000000e-01+0.25j      ]\n"
          ]
        }
      ]
    },
    {
      "cell_type": "code",
      "source": [
        "# Verify qft by inverse FFT\n",
        "import numpy \n",
        "from numpy.fft import ifft\n",
        "ifft(wavefunction.amplitudes, norm=\"ortho\")"
      ],
      "metadata": {
        "colab": {
          "base_uri": "https://localhost:8080/"
        },
        "id": "n9aFu40EgFgT",
        "outputId": "b77981c9-216c-4da1-985a-64493606afaa"
      },
      "execution_count": 27,
      "outputs": [
        {
          "output_type": "execute_result",
          "data": {
            "text/plain": [
              "array([ 0.00000000e+00+0.00000000e+00j,  1.00000000e+00+5.45603965e-17j,\n",
              "        0.00000000e+00+0.00000000e+00j,  0.00000000e+00-1.53080850e-17j,\n",
              "        0.00000000e+00+0.00000000e+00j, -7.85046229e-17-2.39442265e-17j,\n",
              "        0.00000000e+00+0.00000000e+00j,  0.00000000e+00-1.53080850e-17j])"
            ]
          },
          "metadata": {},
          "execution_count": 27
        }
      ]
    },
    {
      "cell_type": "code",
      "source": [
        ""
      ],
      "metadata": {
        "id": "za4ofPWgnHG0"
      },
      "execution_count": null,
      "outputs": []
    }
  ]
}