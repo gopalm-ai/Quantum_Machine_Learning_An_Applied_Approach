{
  "nbformat": 4,
  "nbformat_minor": 0,
  "metadata": {
    "colab": {
      "name": "VQE_qiskit.ipynb",
      "provenance": [],
      "collapsed_sections": [],
      "authorship_tag": "ABX9TyPkqW/QPH5V0KxOmE8WKds5",
      "include_colab_link": true
    },
    "kernelspec": {
      "name": "python3",
      "display_name": "Python 3"
    },
    "language_info": {
      "name": "python"
    }
  },
  "cells": [
    {
      "cell_type": "markdown",
      "metadata": {
        "id": "view-in-github",
        "colab_type": "text"
      },
      "source": [
        "<a href=\"https://colab.research.google.com/github/gopalm-ai/Quantum_Machine_Learning_An_Applied_Approach/blob/main/VQE_qiskit.ipynb\" target=\"_parent\"><img src=\"https://colab.research.google.com/assets/colab-badge.svg\" alt=\"Open In Colab\"/></a>"
      ]
    },
    {
      "cell_type": "code",
      "execution_count": 1,
      "metadata": {
        "id": "pi3a-UGhxfi8"
      },
      "outputs": [],
      "source": [
        "# VQE Algorithm"
      ]
    },
    {
      "cell_type": "code",
      "source": [
        "! pip3 install qiskit"
      ],
      "metadata": {
        "colab": {
          "base_uri": "https://localhost:8080/"
        },
        "id": "YyBekdvlxiei",
        "outputId": "2759233b-5956-4d8a-c9c3-0a3f5ece2a49"
      },
      "execution_count": 2,
      "outputs": [
        {
          "output_type": "stream",
          "name": "stdout",
          "text": [
            "Collecting qiskit\n",
            "  Downloading qiskit-0.34.1.tar.gz (13 kB)\n",
            "Collecting qiskit-terra==0.19.1\n",
            "  Downloading qiskit_terra-0.19.1-cp37-cp37m-manylinux2010_x86_64.whl (6.4 MB)\n",
            "\u001b[K     |████████████████████████████████| 6.4 MB 7.7 MB/s \n",
            "\u001b[?25hCollecting qiskit-aer==0.10.2\n",
            "  Downloading qiskit_aer-0.10.2-cp37-cp37m-manylinux_2_12_x86_64.manylinux2010_x86_64.whl (18.0 MB)\n",
            "\u001b[K     |████████████████████████████████| 18.0 MB 569 kB/s \n",
            "\u001b[?25hCollecting qiskit-ibmq-provider==0.18.3\n",
            "  Downloading qiskit_ibmq_provider-0.18.3-py3-none-any.whl (238 kB)\n",
            "\u001b[K     |████████████████████████████████| 238 kB 44.7 MB/s \n",
            "\u001b[?25hCollecting qiskit-ignis==0.7.0\n",
            "  Downloading qiskit_ignis-0.7.0-py3-none-any.whl (200 kB)\n",
            "\u001b[K     |████████████████████████████████| 200 kB 47.9 MB/s \n",
            "\u001b[?25hRequirement already satisfied: numpy>=1.16.3 in /usr/local/lib/python3.7/dist-packages (from qiskit-aer==0.10.2->qiskit) (1.19.5)\n",
            "Requirement already satisfied: scipy>=1.0 in /usr/local/lib/python3.7/dist-packages (from qiskit-aer==0.10.2->qiskit) (1.4.1)\n",
            "Requirement already satisfied: urllib3>=1.21.1 in /usr/local/lib/python3.7/dist-packages (from qiskit-ibmq-provider==0.18.3->qiskit) (1.24.3)\n",
            "Collecting requests-ntlm>=1.1.0\n",
            "  Downloading requests_ntlm-1.1.0-py2.py3-none-any.whl (5.7 kB)\n",
            "Requirement already satisfied: requests>=2.19 in /usr/local/lib/python3.7/dist-packages (from qiskit-ibmq-provider==0.18.3->qiskit) (2.23.0)\n",
            "Collecting websocket-client>=1.0.1\n",
            "  Downloading websocket_client-1.2.3-py3-none-any.whl (53 kB)\n",
            "\u001b[K     |████████████████████████████████| 53 kB 959 kB/s \n",
            "\u001b[?25hRequirement already satisfied: python-dateutil>=2.8.0 in /usr/local/lib/python3.7/dist-packages (from qiskit-ibmq-provider==0.18.3->qiskit) (2.8.2)\n",
            "Collecting retworkx>=0.8.0\n",
            "  Downloading retworkx-0.11.0-cp37-cp37m-manylinux_2_5_x86_64.manylinux1_x86_64.manylinux_2_12_x86_64.manylinux2010_x86_64.whl (1.6 MB)\n",
            "\u001b[K     |████████████████████████████████| 1.6 MB 46.2 MB/s \n",
            "\u001b[?25hRequirement already satisfied: setuptools>=40.1.0 in /usr/local/lib/python3.7/dist-packages (from qiskit-ignis==0.7.0->qiskit) (57.4.0)\n",
            "Collecting stevedore>=3.0.0\n",
            "  Downloading stevedore-3.5.0-py3-none-any.whl (49 kB)\n",
            "\u001b[K     |████████████████████████████████| 49 kB 5.7 MB/s \n",
            "\u001b[?25hCollecting symengine>=0.8\n",
            "  Downloading symengine-0.8.1-cp37-cp37m-manylinux2010_x86_64.whl (38.2 MB)\n",
            "\u001b[K     |████████████████████████████████| 38.2 MB 1.7 MB/s \n",
            "\u001b[?25hRequirement already satisfied: psutil>=5 in /usr/local/lib/python3.7/dist-packages (from qiskit-terra==0.19.1->qiskit) (5.4.8)\n",
            "Collecting python-constraint>=1.4\n",
            "  Downloading python-constraint-1.4.0.tar.bz2 (18 kB)\n",
            "Requirement already satisfied: dill>=0.3 in /usr/local/lib/python3.7/dist-packages (from qiskit-terra==0.19.1->qiskit) (0.3.4)\n",
            "Collecting tweedledum<2.0,>=1.1\n",
            "  Downloading tweedledum-1.1.1-cp37-cp37m-manylinux_2_12_x86_64.manylinux2010_x86_64.whl (943 kB)\n",
            "\u001b[K     |████████████████████████████████| 943 kB 51.9 MB/s \n",
            "\u001b[?25hRequirement already satisfied: sympy>=1.3 in /usr/local/lib/python3.7/dist-packages (from qiskit-terra==0.19.1->qiskit) (1.7.1)\n",
            "Collecting scipy>=1.0\n",
            "  Downloading scipy-1.7.3-cp37-cp37m-manylinux_2_12_x86_64.manylinux2010_x86_64.whl (38.1 MB)\n",
            "\u001b[K     |████████████████████████████████| 38.1 MB 379 kB/s \n",
            "\u001b[?25hCollecting ply>=3.10\n",
            "  Downloading ply-3.11-py2.py3-none-any.whl (49 kB)\n",
            "\u001b[K     |████████████████████████████████| 49 kB 6.5 MB/s \n",
            "\u001b[?25hRequirement already satisfied: six>=1.5 in /usr/local/lib/python3.7/dist-packages (from python-dateutil>=2.8.0->qiskit-ibmq-provider==0.18.3->qiskit) (1.15.0)\n",
            "Requirement already satisfied: chardet<4,>=3.0.2 in /usr/local/lib/python3.7/dist-packages (from requests>=2.19->qiskit-ibmq-provider==0.18.3->qiskit) (3.0.4)\n",
            "Requirement already satisfied: certifi>=2017.4.17 in /usr/local/lib/python3.7/dist-packages (from requests>=2.19->qiskit-ibmq-provider==0.18.3->qiskit) (2021.10.8)\n",
            "Requirement already satisfied: idna<3,>=2.5 in /usr/local/lib/python3.7/dist-packages (from requests>=2.19->qiskit-ibmq-provider==0.18.3->qiskit) (2.10)\n",
            "Collecting ntlm-auth>=1.0.2\n",
            "  Downloading ntlm_auth-1.5.0-py2.py3-none-any.whl (29 kB)\n",
            "Collecting cryptography>=1.3\n",
            "  Downloading cryptography-36.0.1-cp36-abi3-manylinux_2_24_x86_64.whl (3.6 MB)\n",
            "\u001b[K     |████████████████████████████████| 3.6 MB 47.2 MB/s \n",
            "\u001b[?25hRequirement already satisfied: cffi>=1.12 in /usr/local/lib/python3.7/dist-packages (from cryptography>=1.3->requests-ntlm>=1.1.0->qiskit-ibmq-provider==0.18.3->qiskit) (1.15.0)\n",
            "Requirement already satisfied: pycparser in /usr/local/lib/python3.7/dist-packages (from cffi>=1.12->cryptography>=1.3->requests-ntlm>=1.1.0->qiskit-ibmq-provider==0.18.3->qiskit) (2.21)\n",
            "Collecting pbr!=2.1.0,>=2.0.0\n",
            "  Downloading pbr-5.8.0-py2.py3-none-any.whl (112 kB)\n",
            "\u001b[K     |████████████████████████████████| 112 kB 58.7 MB/s \n",
            "\u001b[?25hRequirement already satisfied: importlib-metadata>=1.7.0 in /usr/local/lib/python3.7/dist-packages (from stevedore>=3.0.0->qiskit-terra==0.19.1->qiskit) (4.10.1)\n",
            "Requirement already satisfied: typing-extensions>=3.6.4 in /usr/local/lib/python3.7/dist-packages (from importlib-metadata>=1.7.0->stevedore>=3.0.0->qiskit-terra==0.19.1->qiskit) (3.10.0.2)\n",
            "Requirement already satisfied: zipp>=0.5 in /usr/local/lib/python3.7/dist-packages (from importlib-metadata>=1.7.0->stevedore>=3.0.0->qiskit-terra==0.19.1->qiskit) (3.7.0)\n",
            "Requirement already satisfied: mpmath>=0.19 in /usr/local/lib/python3.7/dist-packages (from sympy>=1.3->qiskit-terra==0.19.1->qiskit) (1.2.1)\n",
            "Building wheels for collected packages: qiskit, python-constraint\n",
            "  Building wheel for qiskit (setup.py) ... \u001b[?25l\u001b[?25hdone\n",
            "  Created wheel for qiskit: filename=qiskit-0.34.1-py3-none-any.whl size=11771 sha256=172357571c7c39994fea68014844d6c3519f92da72f71c71c9fd3fcb794ac6c8\n",
            "  Stored in directory: /root/.cache/pip/wheels/79/b1/3f/8cdfd5543a84705e4bd16e081f2362b9b3bfd9898d2e2d4150\n",
            "  Building wheel for python-constraint (setup.py) ... \u001b[?25l\u001b[?25hdone\n",
            "  Created wheel for python-constraint: filename=python_constraint-1.4.0-py2.py3-none-any.whl size=24081 sha256=58f30cf9928ca186c5a7b5a9c565dd9539274f123b438cf3df45f37a201f7385\n",
            "  Stored in directory: /root/.cache/pip/wheels/07/27/db/1222c80eb1e431f3d2199c12569cb1cac60f562a451fe30479\n",
            "Successfully built qiskit python-constraint\n",
            "Installing collected packages: pbr, tweedledum, symengine, stevedore, scipy, retworkx, python-constraint, ply, ntlm-auth, cryptography, websocket-client, requests-ntlm, qiskit-terra, qiskit-ignis, qiskit-ibmq-provider, qiskit-aer, qiskit\n",
            "  Attempting uninstall: scipy\n",
            "    Found existing installation: scipy 1.4.1\n",
            "    Uninstalling scipy-1.4.1:\n",
            "      Successfully uninstalled scipy-1.4.1\n",
            "\u001b[31mERROR: pip's dependency resolver does not currently take into account all the packages that are installed. This behaviour is the source of the following dependency conflicts.\n",
            "albumentations 0.1.12 requires imgaug<0.2.7,>=0.2.5, but you have imgaug 0.2.9 which is incompatible.\u001b[0m\n",
            "Successfully installed cryptography-36.0.1 ntlm-auth-1.5.0 pbr-5.8.0 ply-3.11 python-constraint-1.4.0 qiskit-0.34.1 qiskit-aer-0.10.2 qiskit-ibmq-provider-0.18.3 qiskit-ignis-0.7.0 qiskit-terra-0.19.1 requests-ntlm-1.1.0 retworkx-0.11.0 scipy-1.7.3 stevedore-3.5.0 symengine-0.8.1 tweedledum-1.1.1 websocket-client-1.2.3\n"
          ]
        }
      ]
    },
    {
      "cell_type": "code",
      "source": [
        "import numpy as np\n",
        "from qiskit import *\n",
        "# Define the Pauli matrices\n",
        "X = np.array([[0,1],[1,0]])\n",
        "Y = np.array([[0,-np.complex(0,1)],[np.complex(0,1),0]])\n",
        "Z = np.array([[1,0],[0,-1]])"
      ],
      "metadata": {
        "id": "vcXmx5T4SpEw"
      },
      "execution_count": 3,
      "outputs": []
    },
    {
      "cell_type": "code",
      "source": [
        "# Compute the tensor product of the Pauli matrices\n",
        "XX = np.kron(X,X)\n",
        "YY = np.real(np.kron(Y,Y)) # This will be a real matrix\n",
        "ZZ = np.kron(Z,Z)\n",
        "II = np.identity(4)\n",
        "print(\"The XX gate is: \\n{} \\n\".format(XX))\n",
        "print(\"The YY gate is: \\n{} \\n\".format(YY))\n",
        "print(\"The ZZ gate is: \\n{} \\n\".format(ZZ))\n",
        "print(\"The II gate is: \\n{} \\n\".format(II))"
      ],
      "metadata": {
        "id": "dLXmbuhzSpHl",
        "colab": {
          "base_uri": "https://localhost:8080/"
        },
        "outputId": "4026116e-5866-41bd-f99b-7e2c4f8cdfc1"
      },
      "execution_count": 4,
      "outputs": [
        {
          "output_type": "stream",
          "name": "stdout",
          "text": [
            "The XX gate is: \n",
            "[[0 0 0 1]\n",
            " [0 0 1 0]\n",
            " [0 1 0 0]\n",
            " [1 0 0 0]] \n",
            "\n",
            "The YY gate is: \n",
            "[[ 0.  0.  0. -1.]\n",
            " [ 0.  0.  1.  0.]\n",
            " [ 0.  1.  0.  0.]\n",
            " [-1.  0.  0.  0.]] \n",
            "\n",
            "The ZZ gate is: \n",
            "[[ 1  0  0  0]\n",
            " [ 0 -1  0  0]\n",
            " [ 0  0 -1  0]\n",
            " [ 0  0  0  1]] \n",
            "\n",
            "The II gate is: \n",
            "[[1. 0. 0. 0.]\n",
            " [0. 1. 0. 0.]\n",
            " [0. 0. 1. 0.]\n",
            " [0. 0. 0. 1.]] \n",
            "\n"
          ]
        }
      ]
    },
    {
      "cell_type": "code",
      "source": [
        "# This is the decomposition of the \"M\" matrix\n",
        "M = (XX+YY+ZZ+II)/2\n",
        "print('M = \\n', M)\n",
        "print('')"
      ],
      "metadata": {
        "id": "JpcSZ6SPiEb-",
        "colab": {
          "base_uri": "https://localhost:8080/"
        },
        "outputId": "553bdfa2-3151-47fb-b8cc-9cb48193504a"
      },
      "execution_count": 5,
      "outputs": [
        {
          "output_type": "stream",
          "name": "stdout",
          "text": [
            "M = \n",
            " [[1. 0. 0. 0.]\n",
            " [0. 0. 1. 0.]\n",
            " [0. 1. 0. 0.]\n",
            " [0. 0. 0. 1.]]\n",
            "\n"
          ]
        }
      ]
    },
    {
      "cell_type": "code",
      "source": [
        "# Visualize Ansatz Circuit\n",
        "theta = np.pi\n",
        "q = QuantumRegister(2)\n",
        "c = ClassicalRegister(2)\n",
        "circuit = QuantumCircuit(q, c)\n",
        "circuit.h(q[0])\n",
        "circuit.rz(theta, q[0])\n",
        "circuit.cx(q[0], q[1])\n",
        "circuit.x(q[1])\n",
        "circuit.barrier()\n",
        "circuit.draw()"
      ],
      "metadata": {
        "colab": {
          "base_uri": "https://localhost:8080/",
          "height": 122
        },
        "id": "OaEGQgu7lTNF",
        "outputId": "d95e6a5e-c396-4349-cbc6-0f58ccb23776"
      },
      "execution_count": 6,
      "outputs": [
        {
          "output_type": "execute_result",
          "data": {
            "text/html": [
              "<pre style=\"word-wrap: normal;white-space: pre;background: #fff0;line-height: 1.1;font-family: &quot;Courier New&quot;,Courier,monospace\">      ┌───┐┌───────┐           ░ \n",
              "q0_0: ┤ H ├┤ Rz(π) ├──■────────░─\n",
              "      └───┘└───────┘┌─┴─┐┌───┐ ░ \n",
              "q0_1: ──────────────┤ X ├┤ X ├─░─\n",
              "                    └───┘└───┘ ░ \n",
              "c0: 2/═══════════════════════════\n",
              "                                 </pre>"
            ],
            "text/plain": [
              "      ┌───┐┌───────┐           ░ \n",
              "q0_0: ┤ H ├┤ Rz(π) ├──■────────░─\n",
              "      └───┘└───────┘┌─┴─┐┌───┐ ░ \n",
              "q0_1: ──────────────┤ X ├┤ X ├─░─\n",
              "                    └───┘└───┘ ░ \n",
              "c0: 2/═══════════════════════════\n",
              "                                 "
            ]
          },
          "metadata": {},
          "execution_count": 6
        }
      ]
    },
    {
      "cell_type": "code",
      "source": [
        "# Function Definition\n",
        "def ansatz(circuit,q,c,theta):\n",
        "  '''\n",
        "  The Ansatz wave function\n",
        "  |psi> = (I X)(CX)(Rz(theta) I)(H I)|00>\n",
        "  '''\n",
        "  circuit.h(q[0])\n",
        "  circuit.rz(theta, q[0])\n",
        "  circuit.cx(q[0], q[1])\n",
        "  circuit.x(q[1])\n",
        "  circuit.barrier()\n",
        "\n",
        "  return circuit"
      ],
      "metadata": {
        "id": "1F60bo4Hn9D0"
      },
      "execution_count": 7,
      "outputs": []
    },
    {
      "cell_type": "code",
      "source": [
        "def measure_ZZ(circuit, N_shots=2**10, simulator_backend='qasm_simulator'):\n",
        "  '''\n",
        "  Measures the expectation value of ZZ on the 2-qubit states\n",
        "  <ZZ> = (number of (00) and (11) states) - (number of (01) and (10) states)\n",
        "  normalized over the number of trials\n",
        "  '''\n",
        "  simulator = Aer.get_backend(simulator_backend)\n",
        "  result = execute(circuit, backend=simulator, shots=N_shots).result()\n",
        "\n",
        "  items = result.get_counts().items()\n",
        "\n",
        "  s=0\n",
        "  for key, counts in items:\n",
        "    s += (-1)**(int(key[0])+int(key[1]))*counts\n",
        "  s = s/N_shots\n",
        "  \n",
        "  return s"
      ],
      "metadata": {
        "id": "OrhYPXPMpxhy"
      },
      "execution_count": 8,
      "outputs": []
    },
    {
      "cell_type": "code",
      "source": [
        "def hamiltonian(theta, N_shots=2**10):\n",
        "  '''\n",
        "  The hamiltonian for the problem corresponding to the matrix M:\n",
        "  M = (1/2)*(XX+YY+ZZ+II)\n",
        "  The hamiltonian is computed by separating it into three components according \n",
        "  to discussions in previous cells.\n",
        "  '''\n",
        "\n",
        "  q = QuantumRegister(2)\n",
        "  c = ClassicalRegister(2)\n",
        "\n",
        "  ## 0.5*XX component\n",
        "  circuit_xx = QuantumCircuit(q,c)\n",
        "  circuit_xx = ansatz(circuit_xx, q, c, theta)\n",
        "  circuit_xx.h(q[0])\n",
        "  circuit_xx.h(q[1])\n",
        "  circuit_xx.measure(q,c)\n",
        "  E_XX = 0.5*measure_ZZ(circuit_xx, N_shots=N_shots)\n",
        "\n",
        "  ## 0.5*YY component\n",
        "  circuit_yy = QuantumCircuit(q,c)\n",
        "  circuit_yy = ansatz(circuit_yy, q, c, theta)\n",
        "  circuit_yy.sdg(q[0])\n",
        "  circuit_yy.h(q[0])\n",
        "  circuit_yy.sdg(q[1])\n",
        "  circuit_yy.h(q[1])\n",
        "  circuit_yy.measure(q,c)\n",
        "  E_YY = 0.5*measure_ZZ(circuit_yy, N_shots=N_shots)\n",
        "\n",
        "  ## 0.5*ZZ component\n",
        "  circuit_zz = QuantumCircuit(q,c)\n",
        "  circuit_zz = ansatz(circuit_zz, q, c, theta)\n",
        "  circuit_zz.measure(q,c)\n",
        "  E_ZZ = 0.5*measure_ZZ(circuit_zz, N_shots=N_shots)\n",
        "\n",
        "  # The - 1/2 comes from the fact the <psi|II|psi> - 1\n",
        "  # it is always a constant\n",
        "\n",
        "  return (E_XX + E_YY + E_ZZ - 0.5)"
      ],
      "metadata": {
        "id": "MU3cv-Umq4jr"
      },
      "execution_count": 9,
      "outputs": []
    },
    {
      "cell_type": "code",
      "source": [
        "# Minimum Expectation Value of M"
      ],
      "metadata": {
        "id": "NQT4jgIz0hSg"
      },
      "execution_count": 10,
      "outputs": []
    },
    {
      "cell_type": "code",
      "source": [
        "# Generate several thetas, and find best set of parameters \n",
        "import matplotlib.pyplot as plt\n",
        "# Number of shots to run\n",
        "N_shots = 2**10"
      ],
      "metadata": {
        "id": "zcdvcap30hbK"
      },
      "execution_count": 11,
      "outputs": []
    },
    {
      "cell_type": "code",
      "source": [
        "# Generate theta grid\n",
        "theta = np.linspace(0.0, 2*np.pi, 200)\n",
        "E = np.zeros(len(theta))"
      ],
      "metadata": {
        "id": "TiZtpMk801-W"
      },
      "execution_count": 12,
      "outputs": []
    },
    {
      "cell_type": "code",
      "source": [
        "# Calculate expectation value of Hamiltonian for different thetas\n",
        "for k in range(len(theta)):\n",
        "  E[k] = hamiltonian(theta=theta[k], N_shots=N_shots)\n",
        "\n",
        "# Plot results\n",
        "plt.title('Expectation value vs Angle', fontsize=15)\n",
        "plt.ylabel('Expectation value of H', fontsize=15)\n",
        "plt.xlabel('Theta (radians)', fontsize=15)\n",
        "plt.plot(theta, E, label='Number of shots: {}'.format(N_shots))\n",
        "plt.legend()\n",
        "plt.show()"
      ],
      "metadata": {
        "colab": {
          "base_uri": "https://localhost:8080/",
          "height": 302
        },
        "id": "SghYRHrL1E7H",
        "outputId": "0def8d51-80c6-4a6d-e738-1d39a8327b2a"
      },
      "execution_count": 13,
      "outputs": [
        {
          "output_type": "display_data",
          "data": {
            "image/png": "[encoded data removed]",
            "text/plain": [
              "<Figure size 432x288 with 1 Axes>"
            ]
          },
          "metadata": {
            "needs_background": "light"
          }
        }
      ]
    },
    {
      "cell_type": "code",
      "source": [
        "# Determine lowest bound from varying theta\n",
        "print('='*100)\n",
        "print('The minimum bound on the lowest eigenvalue of M is E0={};\\n'.format(min(E)))\n",
        "print('The parameter that corresponds to this energy is theta={:0.2f} Rads'.format(theta[np.argmin(E)]))\n",
        "print('='*100)"
      ],
      "metadata": {
        "colab": {
          "base_uri": "https://localhost:8080/"
        },
        "id": "lMBVdbnY2KEd",
        "outputId": "eed32ad1-e81c-4ce4-d12f-5bf4e290393d"
      },
      "execution_count": 14,
      "outputs": [
        {
          "output_type": "stream",
          "name": "stdout",
          "text": [
            "====================================================================================================\n",
            "The minimum bound on the lowest eigenvalue of M is E0=-2.0;\n",
            "\n",
            "The parameter that corresponds to this energy is theta=3.13 Rads\n",
            "====================================================================================================\n"
          ]
        }
      ]
    },
    {
      "cell_type": "code",
      "source": [
        "w, v = np.linalg.eig(M)\n",
        "\n",
        "print('='*100)\n",
        "print('Minimum eigenvalue using classical computer: Lambda={:0.2f}'.format(min(w)))\n",
        "print('The minimum bound of the Eigenvalue from the quantum computing simulations is E={:0.2f}'.format(min(E)))\n",
        "print('='*100)"
      ],
      "metadata": {
        "colab": {
          "base_uri": "https://localhost:8080/"
        },
        "id": "i_wmeVnp3Lwi",
        "outputId": "cf80a079-133f-481c-d3e5-044ab734232d"
      },
      "execution_count": 16,
      "outputs": [
        {
          "output_type": "stream",
          "name": "stdout",
          "text": [
            "====================================================================================================\n",
            "Minimum eigenvalue using classical computer: Lambda=-1.00\n",
            "The minimum bound of the Eigenvalue from the quantum computing simulations is E=-2.00\n",
            "====================================================================================================\n"
          ]
        }
      ]
    },
    {
      "cell_type": "code",
      "source": [
        ""
      ],
      "metadata": {
        "id": "4AakWXCutKRh"
      },
      "execution_count": null,
      "outputs": []
    }
  ]
}