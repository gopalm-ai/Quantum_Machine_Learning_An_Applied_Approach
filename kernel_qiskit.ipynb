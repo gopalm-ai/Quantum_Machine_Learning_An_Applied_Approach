{
  "cells": [
    {
      "cell_type": "markdown",
      "metadata": {
        "id": "view-in-github",
        "colab_type": "text"
      },
      "source": [
        "<a href=\"https://colab.research.google.com/github/gopalm-ai/Quantum_Machine_Learning_An_Applied_Approach/blob/main/kernel_qiskit.ipynb\" target=\"_parent\"><img src=\"https://colab.research.google.com/assets/colab-badge.svg\" alt=\"Open In Colab\"/></a>"
      ]
    },
    {
      "cell_type": "code",
      "execution_count": 1,
      "metadata": {
        "id": "OVbufSVxUFx5",
        "colab": {
          "base_uri": "https://localhost:8080/"
        },
        "outputId": "ca553b37-2213-4941-eb78-82a023161843"
      },
      "outputs": [
        {
          "output_type": "stream",
          "name": "stdout",
          "text": [
            "Collecting qiskit\n",
            "  Downloading qiskit-0.34.1.tar.gz (13 kB)\n",
            "Collecting qiskit-terra==0.19.1\n",
            "  Downloading qiskit_terra-0.19.1-cp37-cp37m-manylinux2010_x86_64.whl (6.4 MB)\n",
            "\u001b[K     |████████████████████████████████| 6.4 MB 6.9 MB/s \n",
            "\u001b[?25hCollecting qiskit-aer==0.10.2\n",
            "  Downloading qiskit_aer-0.10.2-cp37-cp37m-manylinux_2_12_x86_64.manylinux2010_x86_64.whl (18.0 MB)\n",
            "\u001b[K     |████████████████████████████████| 18.0 MB 564 kB/s \n",
            "\u001b[?25hCollecting qiskit-ibmq-provider==0.18.3\n",
            "  Downloading qiskit_ibmq_provider-0.18.3-py3-none-any.whl (238 kB)\n",
            "\u001b[K     |████████████████████████████████| 238 kB 79.6 MB/s \n",
            "\u001b[?25hCollecting qiskit-ignis==0.7.0\n",
            "  Downloading qiskit_ignis-0.7.0-py3-none-any.whl (200 kB)\n",
            "\u001b[K     |████████████████████████████████| 200 kB 81.0 MB/s \n",
            "\u001b[?25hRequirement already satisfied: scipy>=1.0 in /usr/local/lib/python3.7/dist-packages (from qiskit-aer==0.10.2->qiskit) (1.4.1)\n",
            "Requirement already satisfied: numpy>=1.16.3 in /usr/local/lib/python3.7/dist-packages (from qiskit-aer==0.10.2->qiskit) (1.19.5)\n",
            "Requirement already satisfied: urllib3>=1.21.1 in /usr/local/lib/python3.7/dist-packages (from qiskit-ibmq-provider==0.18.3->qiskit) (1.24.3)\n",
            "Collecting websocket-client>=1.0.1\n",
            "  Downloading websocket_client-1.2.3-py3-none-any.whl (53 kB)\n",
            "\u001b[K     |████████████████████████████████| 53 kB 2.5 MB/s \n",
            "\u001b[?25hRequirement already satisfied: python-dateutil>=2.8.0 in /usr/local/lib/python3.7/dist-packages (from qiskit-ibmq-provider==0.18.3->qiskit) (2.8.2)\n",
            "Requirement already satisfied: requests>=2.19 in /usr/local/lib/python3.7/dist-packages (from qiskit-ibmq-provider==0.18.3->qiskit) (2.23.0)\n",
            "Collecting requests-ntlm>=1.1.0\n",
            "  Downloading requests_ntlm-1.1.0-py2.py3-none-any.whl (5.7 kB)\n",
            "Requirement already satisfied: setuptools>=40.1.0 in /usr/local/lib/python3.7/dist-packages (from qiskit-ignis==0.7.0->qiskit) (57.4.0)\n",
            "Collecting retworkx>=0.8.0\n",
            "  Downloading retworkx-0.11.0-cp37-cp37m-manylinux_2_5_x86_64.manylinux1_x86_64.manylinux_2_12_x86_64.manylinux2010_x86_64.whl (1.6 MB)\n",
            "\u001b[K     |████████████████████████████████| 1.6 MB 48.3 MB/s \n",
            "\u001b[?25hCollecting python-constraint>=1.4\n",
            "  Downloading python-constraint-1.4.0.tar.bz2 (18 kB)\n",
            "Requirement already satisfied: dill>=0.3 in /usr/local/lib/python3.7/dist-packages (from qiskit-terra==0.19.1->qiskit) (0.3.4)\n",
            "Collecting scipy>=1.0\n",
            "  Downloading scipy-1.7.3-cp37-cp37m-manylinux_2_12_x86_64.manylinux2010_x86_64.whl (38.1 MB)\n",
            "\u001b[K     |████████████████████████████████| 38.1 MB 1.2 MB/s \n",
            "\u001b[?25hRequirement already satisfied: psutil>=5 in /usr/local/lib/python3.7/dist-packages (from qiskit-terra==0.19.1->qiskit) (5.4.8)\n",
            "Collecting stevedore>=3.0.0\n",
            "  Downloading stevedore-3.5.0-py3-none-any.whl (49 kB)\n",
            "\u001b[K     |████████████████████████████████| 49 kB 7.5 MB/s \n",
            "\u001b[?25hCollecting tweedledum<2.0,>=1.1\n",
            "  Downloading tweedledum-1.1.1-cp37-cp37m-manylinux_2_12_x86_64.manylinux2010_x86_64.whl (943 kB)\n",
            "\u001b[K     |████████████████████████████████| 943 kB 23.7 MB/s \n",
            "\u001b[?25hRequirement already satisfied: sympy>=1.3 in /usr/local/lib/python3.7/dist-packages (from qiskit-terra==0.19.1->qiskit) (1.7.1)\n",
            "Collecting ply>=3.10\n",
            "  Downloading ply-3.11-py2.py3-none-any.whl (49 kB)\n",
            "\u001b[K     |████████████████████████████████| 49 kB 8.6 MB/s \n",
            "\u001b[?25hCollecting symengine>=0.8\n",
            "  Downloading symengine-0.8.1-cp37-cp37m-manylinux2010_x86_64.whl (38.2 MB)\n",
            "\u001b[K     |████████████████████████████████| 38.2 MB 1.3 MB/s \n",
            "\u001b[?25hRequirement already satisfied: six>=1.5 in /usr/local/lib/python3.7/dist-packages (from python-dateutil>=2.8.0->qiskit-ibmq-provider==0.18.3->qiskit) (1.15.0)\n",
            "Requirement already satisfied: certifi>=2017.4.17 in /usr/local/lib/python3.7/dist-packages (from requests>=2.19->qiskit-ibmq-provider==0.18.3->qiskit) (2021.10.8)\n",
            "Requirement already satisfied: idna<3,>=2.5 in /usr/local/lib/python3.7/dist-packages (from requests>=2.19->qiskit-ibmq-provider==0.18.3->qiskit) (2.10)\n",
            "Requirement already satisfied: chardet<4,>=3.0.2 in /usr/local/lib/python3.7/dist-packages (from requests>=2.19->qiskit-ibmq-provider==0.18.3->qiskit) (3.0.4)\n",
            "Collecting cryptography>=1.3\n",
            "  Downloading cryptography-36.0.1-cp36-abi3-manylinux_2_24_x86_64.whl (3.6 MB)\n",
            "\u001b[K     |████████████████████████████████| 3.6 MB 54.6 MB/s \n",
            "\u001b[?25hCollecting ntlm-auth>=1.0.2\n",
            "  Downloading ntlm_auth-1.5.0-py2.py3-none-any.whl (29 kB)\n",
            "Requirement already satisfied: cffi>=1.12 in /usr/local/lib/python3.7/dist-packages (from cryptography>=1.3->requests-ntlm>=1.1.0->qiskit-ibmq-provider==0.18.3->qiskit) (1.15.0)\n",
            "Requirement already satisfied: pycparser in /usr/local/lib/python3.7/dist-packages (from cffi>=1.12->cryptography>=1.3->requests-ntlm>=1.1.0->qiskit-ibmq-provider==0.18.3->qiskit) (2.21)\n",
            "Collecting pbr!=2.1.0,>=2.0.0\n",
            "  Downloading pbr-5.8.0-py2.py3-none-any.whl (112 kB)\n",
            "\u001b[K     |████████████████████████████████| 112 kB 66.6 MB/s \n",
            "\u001b[?25hRequirement already satisfied: importlib-metadata>=1.7.0 in /usr/local/lib/python3.7/dist-packages (from stevedore>=3.0.0->qiskit-terra==0.19.1->qiskit) (4.10.0)\n",
            "Requirement already satisfied: typing-extensions>=3.6.4 in /usr/local/lib/python3.7/dist-packages (from importlib-metadata>=1.7.0->stevedore>=3.0.0->qiskit-terra==0.19.1->qiskit) (3.10.0.2)\n",
            "Requirement already satisfied: zipp>=0.5 in /usr/local/lib/python3.7/dist-packages (from importlib-metadata>=1.7.0->stevedore>=3.0.0->qiskit-terra==0.19.1->qiskit) (3.7.0)\n",
            "Requirement already satisfied: mpmath>=0.19 in /usr/local/lib/python3.7/dist-packages (from sympy>=1.3->qiskit-terra==0.19.1->qiskit) (1.2.1)\n",
            "Building wheels for collected packages: qiskit, python-constraint\n",
            "  Building wheel for qiskit (setup.py) ... \u001b[?25l\u001b[?25hdone\n",
            "  Created wheel for qiskit: filename=qiskit-0.34.1-py3-none-any.whl size=11771 sha256=3448a00a4bd222ecf3e9ae534fb44beb3af79cde1ed53442d99574cc291c692a\n",
            "  Stored in directory: /root/.cache/pip/wheels/79/b1/3f/8cdfd5543a84705e4bd16e081f2362b9b3bfd9898d2e2d4150\n",
            "  Building wheel for python-constraint (setup.py) ... \u001b[?25l\u001b[?25hdone\n",
            "  Created wheel for python-constraint: filename=python_constraint-1.4.0-py2.py3-none-any.whl size=24081 sha256=32ace814cc7d2508394406002bccbb1cc2945cca0e5afb04240a514511f2c043\n",
            "  Stored in directory: /root/.cache/pip/wheels/07/27/db/1222c80eb1e431f3d2199c12569cb1cac60f562a451fe30479\n",
            "Successfully built qiskit python-constraint\n",
            "Installing collected packages: pbr, tweedledum, symengine, stevedore, scipy, retworkx, python-constraint, ply, ntlm-auth, cryptography, websocket-client, requests-ntlm, qiskit-terra, qiskit-ignis, qiskit-ibmq-provider, qiskit-aer, qiskit\n",
            "  Attempting uninstall: scipy\n",
            "    Found existing installation: scipy 1.4.1\n",
            "    Uninstalling scipy-1.4.1:\n",
            "      Successfully uninstalled scipy-1.4.1\n",
            "\u001b[31mERROR: pip's dependency resolver does not currently take into account all the packages that are installed. This behaviour is the source of the following dependency conflicts.\n",
            "albumentations 0.1.12 requires imgaug<0.2.7,>=0.2.5, but you have imgaug 0.2.9 which is incompatible.\u001b[0m\n",
            "Successfully installed cryptography-36.0.1 ntlm-auth-1.5.0 pbr-5.8.0 ply-3.11 python-constraint-1.4.0 qiskit-0.34.1 qiskit-aer-0.10.2 qiskit-ibmq-provider-0.18.3 qiskit-ignis-0.7.0 qiskit-terra-0.19.1 requests-ntlm-1.1.0 retworkx-0.11.0 scipy-1.7.3 stevedore-3.5.0 symengine-0.8.1 tweedledum-1.1.1 websocket-client-1.2.3\n"
          ]
        }
      ],
      "source": [
        "! pip3 install qiskit"
      ]
    },
    {
      "cell_type": "code",
      "source": [
        "# Import Libraries\n",
        "import matplotlib.pyplot as plt\n",
        "import numpy as np\n",
        "from math import pi\n",
        "from qiskit import *\n",
        "from qiskit.tools.visualization import *\n",
        "from qiskit.quantum_info import *"
      ],
      "metadata": {
        "id": "KNwpkJ5j4AoX"
      },
      "execution_count": 2,
      "outputs": []
    },
    {
      "cell_type": "code",
      "source": [
        "q = QuantumRegister(4)\n",
        "c = ClassicalRegister(4)\n",
        "backend = BasicAer.get_backend('qasm_simulator')"
      ],
      "metadata": {
        "id": "X2m56bfry1Sx"
      },
      "execution_count": 3,
      "outputs": []
    },
    {
      "cell_type": "code",
      "source": [
        "# Training and Test Set Definition\n",
        "training_set = [[0, 1], [0.78861006, 0.61489363]]\n",
        "labels = [0, 1]\n",
        "test_set = [[-0.549, 0.836], [0.053, 0.999]]"
      ],
      "metadata": {
        "id": "u3gVtfqTjDAg"
      },
      "execution_count": 4,
      "outputs": []
    },
    {
      "cell_type": "code",
      "source": [
        "# Angle Definition\n",
        "test_angles = [4.30417579487669/2, 3.0357101997648965/2]\n",
        "training_angle = 1.3245021469658966/4"
      ],
      "metadata": {
        "id": "ASc6b2Vkjfgd"
      },
      "execution_count": 5,
      "outputs": []
    },
    {
      "cell_type": "code",
      "source": [
        "# State Preparation Function\n",
        "def prepare_state(q, c, angles):\n",
        "  ancilla_qubit = q[0]\n",
        "  index_qubit = q[1]\n",
        "  data_qubit = q[2]\n",
        "  class_qubit = q[3]\n",
        "  circuit = QuantumCircuit(q, c)\n",
        "\n",
        "  # Ancilla and index qubits into uniform superposition\n",
        "  circuit.h(ancilla_qubit)\n",
        "  circuit.h(index_qubit)\n",
        "\n",
        "  # Prepare the test vector\n",
        "  circuit.cx(ancilla_qubit, data_qubit)\n",
        "  circuit.u3(-angles[0], 0, 0, data_qubit)\n",
        "  circuit.cx(ancilla_qubit, data_qubit)\n",
        "  circuit.u3(angles[0], 0, 0, data_qubit)\n",
        "  # Flip the ancilla qubit -> this moves the input vector \n",
        "  # to the |0> state of the ancilla\n",
        "  circuit.x(ancilla_qubit)\n",
        "  circuit.barrier()\n",
        "\n",
        "  # Prepare the first training vector\n",
        "  # [0,1] -> class 0\n",
        "  # We can prepare this with a Toffoli\n",
        "  circuit.ccx(ancilla_qubit, index_qubit, data_qubit)\n",
        "  # Flip index qubit -> moves the first training vector\n",
        "  # to the |0> state of the index qubit\n",
        "  circuit.x(index_qubit)\n",
        "  circuit.barrier()\n",
        "\n",
        "  # Prepare the second training vector\n",
        "  # [0.78861, 0.61489] -> class 1\n",
        "  circuit.ccx(ancilla_qubit, index_qubit, data_qubit)\n",
        "  circuit.cx(index_qubit, data_qubit)\n",
        "  circuit.u(angles[1], 0, 0, data_qubit)\n",
        "  circuit.cx(index_qubit, data_qubit)\n",
        "  circuit.u(-angles[1], 0, 0, data_qubit) \n",
        "  circuit.ccx(ancilla_qubit, index_qubit, data_qubit)\n",
        "  circuit.cx(index_qubit, data_qubit)\n",
        "  circuit.u(-angles[1], 0, 0, data_qubit)\n",
        "  circuit.cx(index_qubit, data_qubit)\n",
        "  circuit.u(angles[1], 0, 0, data_qubit) \n",
        "  circuit.barrier()\n",
        "\n",
        "  # Flip the class label for training vector #2\n",
        "  circuit.cx(index_qubit, class_qubit)\n",
        "  circuit.barrier()\n",
        "  return circuit"
      ],
      "metadata": {
        "id": "WD6B_Fyblc_w"
      },
      "execution_count": 16,
      "outputs": []
    },
    {
      "cell_type": "code",
      "source": [
        "# Circuit Generation\n",
        "from qiskit.tools.visualization import *\n",
        "angles = [test_angles[0], training_angle]\n",
        "state_preparation_0 = prepare_state(q, c, angles)\n",
        "circuit_drawer(state_preparation_0)"
      ],
      "metadata": {
        "id": "0SAacKNhlgsW",
        "colab": {
          "base_uri": "https://localhost:8080/",
          "height": 651
        },
        "outputId": "f27add31-81eb-4233-ae7c-02f4b75eb208"
      },
      "execution_count": 7,
      "outputs": [
        {
          "output_type": "stream",
          "name": "stderr",
          "text": [
            "/usr/local/lib/python3.7/dist-packages/ipykernel_launcher.py:15: DeprecationWarning: The QuantumCircuit.u3 method is deprecated as of 0.16.0. It will be removed no earlier than 3 months after the release date. You should use QuantumCircuit.u instead, which acts identically. Alternatively, you can decompose u3 in terms of QuantumCircuit.p and QuantumCircuit.sx: u3(ϴ,φ,λ) = p(φ+π) sx p(ϴ+π) sx p(λ) (2 pulses on hardware).\n",
            "  from ipykernel import kernelapp as app\n",
            "/usr/local/lib/python3.7/dist-packages/ipykernel_launcher.py:17: DeprecationWarning: The QuantumCircuit.u3 method is deprecated as of 0.16.0. It will be removed no earlier than 3 months after the release date. You should use QuantumCircuit.u instead, which acts identically. Alternatively, you can decompose u3 in terms of QuantumCircuit.p and QuantumCircuit.sx: u3(ϴ,φ,λ) = p(φ+π) sx p(ϴ+π) sx p(λ) (2 pulses on hardware).\n",
            "/usr/local/lib/python3.7/dist-packages/ipykernel_launcher.py:36: DeprecationWarning: The QuantumCircuit.u3 method is deprecated as of 0.16.0. It will be removed no earlier than 3 months after the release date. You should use QuantumCircuit.u instead, which acts identically. Alternatively, you can decompose u3 in terms of QuantumCircuit.p and QuantumCircuit.sx: u3(ϴ,φ,λ) = p(φ+π) sx p(ϴ+π) sx p(λ) (2 pulses on hardware).\n",
            "/usr/local/lib/python3.7/dist-packages/ipykernel_launcher.py:38: DeprecationWarning: The QuantumCircuit.u3 method is deprecated as of 0.16.0. It will be removed no earlier than 3 months after the release date. You should use QuantumCircuit.u instead, which acts identically. Alternatively, you can decompose u3 in terms of QuantumCircuit.p and QuantumCircuit.sx: u3(ϴ,φ,λ) = p(φ+π) sx p(ϴ+π) sx p(λ) (2 pulses on hardware).\n",
            "/usr/local/lib/python3.7/dist-packages/ipykernel_launcher.py:41: DeprecationWarning: The QuantumCircuit.u3 method is deprecated as of 0.16.0. It will be removed no earlier than 3 months after the release date. You should use QuantumCircuit.u instead, which acts identically. Alternatively, you can decompose u3 in terms of QuantumCircuit.p and QuantumCircuit.sx: u3(ϴ,φ,λ) = p(φ+π) sx p(ϴ+π) sx p(λ) (2 pulses on hardware).\n",
            "/usr/local/lib/python3.7/dist-packages/ipykernel_launcher.py:43: DeprecationWarning: The QuantumCircuit.u3 method is deprecated as of 0.16.0. It will be removed no earlier than 3 months after the release date. You should use QuantumCircuit.u instead, which acts identically. Alternatively, you can decompose u3 in terms of QuantumCircuit.p and QuantumCircuit.sx: u3(ϴ,φ,λ) = p(φ+π) sx p(ϴ+π) sx p(λ) (2 pulses on hardware).\n"
          ]
        },
        {
          "output_type": "execute_result",
          "data": {
            "text/html": [
              "<pre style=\"word-wrap: normal;white-space: pre;background: #fff0;line-height: 1.1;font-family: &quot;Courier New&quot;,Courier,monospace\">      ┌───┐                                   ┌───┐        ░            ░      »\n",
              "q0_0: ┤ H ├──■───────────────────────■────────┤ X ├────────░───■────────░───■──»\n",
              "      ├───┤  │                       │        └───┘        ░   │  ┌───┐ ░   │  »\n",
              "q0_1: ┤ H ├──┼───────────────────────┼─────────────────────░───■──┤ X ├─░───■──»\n",
              "      └───┘┌─┴─┐┌─────────────────┐┌─┴─┐┌────────────────┐ ░ ┌─┴─┐└───┘ ░ ┌─┴─┐»\n",
              "q0_2: ─────┤ X ├┤ U3(-2.1521,0,0) ├┤ X ├┤ U3(2.1521,0,0) ├─░─┤ X ├──────░─┤ X ├»\n",
              "           └───┘└─────────────────┘└───┘└────────────────┘ ░ └───┘      ░ └───┘»\n",
              "q0_3: ─────────────────────────────────────────────────────░────────────░──────»\n",
              "                                                           ░            ░      »\n",
              "c0: 4/═════════════════════════════════════════════════════════════════════════»\n",
              "                                                                               »\n",
              "«                                                                 »\n",
              "«q0_0: ───────────────────────────────────────────────────■───────»\n",
              "«                                                         │       »\n",
              "«q0_1: ──■───────────────────────■────────────────────────■────■──»\n",
              "«      ┌─┴─┐┌─────────────────┐┌─┴─┐┌──────────────────┐┌─┴─┐┌─┴─┐»\n",
              "«q0_2: ┤ X ├┤ U3(0.33113,0,0) ├┤ X ├┤ U3(-0.33113,0,0) ├┤ X ├┤ X ├»\n",
              "«      └───┘└─────────────────┘└───┘└──────────────────┘└───┘└───┘»\n",
              "«q0_3: ───────────────────────────────────────────────────────────»\n",
              "«                                                                 »\n",
              "«c0: 4/═══════════════════════════════════════════════════════════»\n",
              "«                                                                 »\n",
              "«                                                   ░       ░ \n",
              "«q0_0: ─────────────────────────────────────────────░───────░─\n",
              "«                                                   ░       ░ \n",
              "«q0_1: ──────────────────────■──────────────────────░───■───░─\n",
              "«      ┌──────────────────┐┌─┴─┐┌─────────────────┐ ░   │   ░ \n",
              "«q0_2: ┤ U3(-0.33113,0,0) ├┤ X ├┤ U3(0.33113,0,0) ├─░───┼───░─\n",
              "«      └──────────────────┘└───┘└─────────────────┘ ░ ┌─┴─┐ ░ \n",
              "«q0_3: ─────────────────────────────────────────────░─┤ X ├─░─\n",
              "«                                                   ░ └───┘ ░ \n",
              "«c0: 4/═══════════════════════════════════════════════════════\n",
              "«                                                             </pre>"
            ],
            "text/plain": [
              "      ┌───┐                                   ┌───┐        ░            ░      »\n",
              "q0_0: ┤ H ├──■───────────────────────■────────┤ X ├────────░───■────────░───■──»\n",
              "      ├───┤  │                       │        └───┘        ░   │  ┌───┐ ░   │  »\n",
              "q0_1: ┤ H ├──┼───────────────────────┼─────────────────────░───■──┤ X ├─░───■──»\n",
              "      └───┘┌─┴─┐┌─────────────────┐┌─┴─┐┌────────────────┐ ░ ┌─┴─┐└───┘ ░ ┌─┴─┐»\n",
              "q0_2: ─────┤ X ├┤ U3(-2.1521,0,0) ├┤ X ├┤ U3(2.1521,0,0) ├─░─┤ X ├──────░─┤ X ├»\n",
              "           └───┘└─────────────────┘└───┘└────────────────┘ ░ └───┘      ░ └───┘»\n",
              "q0_3: ─────────────────────────────────────────────────────░────────────░──────»\n",
              "                                                           ░            ░      »\n",
              "c0: 4/═════════════════════════════════════════════════════════════════════════»\n",
              "                                                                               »\n",
              "«                                                                 »\n",
              "«q0_0: ───────────────────────────────────────────────────■───────»\n",
              "«                                                         │       »\n",
              "«q0_1: ──■───────────────────────■────────────────────────■────■──»\n",
              "«      ┌─┴─┐┌─────────────────┐┌─┴─┐┌──────────────────┐┌─┴─┐┌─┴─┐»\n",
              "«q0_2: ┤ X ├┤ U3(0.33113,0,0) ├┤ X ├┤ U3(-0.33113,0,0) ├┤ X ├┤ X ├»\n",
              "«      └───┘└─────────────────┘└───┘└──────────────────┘└───┘└───┘»\n",
              "«q0_3: ───────────────────────────────────────────────────────────»\n",
              "«                                                                 »\n",
              "«c0: 4/═══════════════════════════════════════════════════════════»\n",
              "«                                                                 »\n",
              "«                                                   ░       ░ \n",
              "«q0_0: ─────────────────────────────────────────────░───────░─\n",
              "«                                                   ░       ░ \n",
              "«q0_1: ──────────────────────■──────────────────────░───■───░─\n",
              "«      ┌──────────────────┐┌─┴─┐┌─────────────────┐ ░   │   ░ \n",
              "«q0_2: ┤ U3(-0.33113,0,0) ├┤ X ├┤ U3(0.33113,0,0) ├─░───┼───░─\n",
              "«      └──────────────────┘└───┘└─────────────────┘ ░ ┌─┴─┐ ░ \n",
              "«q0_3: ─────────────────────────────────────────────░─┤ X ├─░─\n",
              "«                                                   ░ └───┘ ░ \n",
              "«c0: 4/═══════════════════════════════════════════════════════\n",
              "«                                                             "
            ]
          },
          "metadata": {},
          "execution_count": 7
        }
      ]
    },
    {
      "cell_type": "code",
      "source": [
        "# Shallow Depth Kernel\n",
        "def interfere_data_and_test_instances(circuit, q, c, angles):\n",
        "  circuit.h(q[0])\n",
        "  circuit.barrier()\n",
        "  circuit.measure(q, c)\n",
        "  return circuit"
      ],
      "metadata": {
        "id": "zNjkEccKxKVV"
      },
      "execution_count": 17,
      "outputs": []
    },
    {
      "cell_type": "code",
      "source": [
        "# Kernel Generation\n",
        "import matplotlib.pyplot as plt\n",
        "import numpy as np\n",
        "%matplotlib inline\n",
        "x = np.linspace(-2, 2, 100)\n",
        "plt.xlim(-2, 2)\n",
        "plt.ylim(0, 1.1)\n",
        "plt.plot(x, 1-x**2/4)"
      ],
      "metadata": {
        "colab": {
          "base_uri": "https://localhost:8080/",
          "height": 282
        },
        "id": "yIg_-hO2yI8u",
        "outputId": "4911b9a3-656f-4636-9b43-eedcdf94f4a7"
      },
      "execution_count": 18,
      "outputs": [
        {
          "output_type": "execute_result",
          "data": {
            "text/plain": [
              "[<matplotlib.lines.Line2D at 0x7fb475f2f910>]"
            ]
          },
          "metadata": {},
          "execution_count": 18
        },
        {
          "output_type": "display_data",
          "data": {
            "image/png": "[encoded data removed]",
            "text/plain": [
              "<Figure size 432x288 with 1 Axes>"
            ]
          },
          "metadata": {
            "needs_background": "light"
          }
        }
      ]
    },
    {
      "cell_type": "code",
      "source": [
        "# Lambda Function\n",
        "def postselect(result_counts):\n",
        "  total_samples = sum(result_counts.values())\n",
        "  # lambda function: returns values only when ancilla is in the |0> state\n",
        "  post_select = lambda counts: [(state, occurrences) for state, occurrences \n",
        "                                in counts.items() if state[-1] == '0']\n",
        "  # perform the postselection\n",
        "  postselection = dict(post_select(result_counts))\n",
        "  postselected_samples = sum(postselection.values())\n",
        "\n",
        "  print(f'Ancilla post-selection probability was found to be {postselected_samples/total_samples}')\n",
        "  retrieve_class = lambda binary_class: [occurrences for state, occurrences \n",
        "                                         in postselection.items() if state[0] \n",
        "                                         == str(binary_class)]\n",
        "  prob_class0 = sum(retrieve_class(0))/postselected_samples\n",
        "  prob_class1 = sum(retrieve_class(1))/postselected_samples\n",
        "\n",
        "  print('Probability for class 0 is', prob_class0)\n",
        "  print('Probability for class 1 is', prob_class1)\n"
      ],
      "metadata": {
        "id": "tXT_xzQrya6s"
      },
      "execution_count": 19,
      "outputs": []
    },
    {
      "cell_type": "code",
      "source": [
        "# First Instance\n",
        "circuit_0 = interfere_data_and_test_instances(state_preparation_0, q, c, angles)\n",
        "job = execute(circuit_0, backend)\n",
        "result = job.result()\n",
        "postselect(result.get_counts(circuit_0))"
      ],
      "metadata": {
        "colab": {
          "base_uri": "https://localhost:8080/"
        },
        "id": "yCrsbpvXeKr7",
        "outputId": "32adeb6e-a397-4679-c5d6-5f8836bd6050"
      },
      "execution_count": 20,
      "outputs": [
        {
          "output_type": "stream",
          "name": "stdout",
          "text": [
            "Ancilla post-selection probability was found to be 0.482421875\n",
            "Probability for class 0 is 0.5141700404858299\n",
            "Probability for class 1 is 0.48582995951417\n"
          ]
        }
      ]
    },
    {
      "cell_type": "code",
      "source": [
        "# Second Instance\n",
        "angles = [test_angles[1], training_angle]\n",
        "state_preparation_1 = prepare_state(q, c, angles)\n",
        "circuit_1 = interfere_data_and_test_instances(state_preparation_1, q, c, angles)\n",
        "job = execute(circuit_1, backend)\n",
        "result = job.result()\n",
        "postselect(result.get_counts(circuit_1))"
      ],
      "metadata": {
        "colab": {
          "base_uri": "https://localhost:8080/"
        },
        "id": "3-tWFs1CjzI4",
        "outputId": "48fe74dd-361b-4a25-9e09-d0edaafc3b03"
      },
      "execution_count": 21,
      "outputs": [
        {
          "output_type": "stream",
          "name": "stdout",
          "text": [
            "Ancilla post-selection probability was found to be 0.8974609375\n",
            "Probability for class 0 is 0.5408052230685527\n",
            "Probability for class 1 is 0.4591947769314472\n"
          ]
        },
        {
          "output_type": "stream",
          "name": "stderr",
          "text": [
            "/usr/local/lib/python3.7/dist-packages/ipykernel_launcher.py:15: DeprecationWarning: The QuantumCircuit.u3 method is deprecated as of 0.16.0. It will be removed no earlier than 3 months after the release date. You should use QuantumCircuit.u instead, which acts identically. Alternatively, you can decompose u3 in terms of QuantumCircuit.p and QuantumCircuit.sx: u3(ϴ,φ,λ) = p(φ+π) sx p(ϴ+π) sx p(λ) (2 pulses on hardware).\n",
            "  from ipykernel import kernelapp as app\n",
            "/usr/local/lib/python3.7/dist-packages/ipykernel_launcher.py:17: DeprecationWarning: The QuantumCircuit.u3 method is deprecated as of 0.16.0. It will be removed no earlier than 3 months after the release date. You should use QuantumCircuit.u instead, which acts identically. Alternatively, you can decompose u3 in terms of QuantumCircuit.p and QuantumCircuit.sx: u3(ϴ,φ,λ) = p(φ+π) sx p(ϴ+π) sx p(λ) (2 pulses on hardware).\n"
          ]
        }
      ]
    },
    {
      "cell_type": "code",
      "source": [
        ""
      ],
      "metadata": {
        "id": "LebXQ7dEu39F"
      },
      "execution_count": null,
      "outputs": []
    }
  ],
  "metadata": {
    "kernelspec": {
      "display_name": "Python 3",
      "language": "python",
      "name": "python3"
    },
    "language_info": {
      "codemirror_mode": {
        "name": "ipython",
        "version": 3
      },
      "file_extension": ".py",
      "mimetype": "text/x-python",
      "name": "python",
      "nbconvert_exporter": "python",
      "pygments_lexer": "ipython3",
      "version": "3.7.4"
    },
    "colab": {
      "name": "kernel-qiskit.ipynb",
      "provenance": [],
      "collapsed_sections": [],
      "include_colab_link": true
    }
  },
  "nbformat": 4,
  "nbformat_minor": 0
}