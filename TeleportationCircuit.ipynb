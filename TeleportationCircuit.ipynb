{
  "cells": [
    {
      "cell_type": "markdown",
      "metadata": {
        "id": "view-in-github",
        "colab_type": "text"
      },
      "source": [
        "<a href=\"https://colab.research.google.com/github/gopalm-ai/Quantum_Machine_Learning_An_Applied_Approach/blob/main/TeleportationCircuit.ipynb\" target=\"_parent\"><img src=\"https://colab.research.google.com/assets/colab-badge.svg\" alt=\"Open In Colab\"/></a>"
      ]
    },
    {
      "cell_type": "code",
      "execution_count": 1,
      "metadata": {
        "colab": {
          "base_uri": "https://localhost:8080/"
        },
        "id": "OVbufSVxUFx5",
        "outputId": "c07f9c48-1bb0-4bb1-e524-30fa292036d7"
      },
      "outputs": [
        {
          "output_type": "stream",
          "name": "stdout",
          "text": [
            "Requirement already satisfied: cirq in /usr/local/lib/python3.7/dist-packages (0.13.1)\n",
            "Requirement already satisfied: cirq-google==0.13.1 in /usr/local/lib/python3.7/dist-packages (from cirq) (0.13.1)\n",
            "Requirement already satisfied: cirq-pasqal==0.13.1 in /usr/local/lib/python3.7/dist-packages (from cirq) (0.13.1)\n",
            "Requirement already satisfied: cirq-core==0.13.1 in /usr/local/lib/python3.7/dist-packages (from cirq) (0.13.1)\n",
            "Requirement already satisfied: cirq-aqt==0.13.1 in /usr/local/lib/python3.7/dist-packages (from cirq) (0.13.1)\n",
            "Requirement already satisfied: cirq-web==0.13.1 in /usr/local/lib/python3.7/dist-packages (from cirq) (0.13.1)\n",
            "Requirement already satisfied: cirq-ionq==0.13.1 in /usr/local/lib/python3.7/dist-packages (from cirq) (0.13.1)\n",
            "Requirement already satisfied: cirq-rigetti==0.13.1 in /usr/local/lib/python3.7/dist-packages (from cirq) (0.13.1)\n",
            "Requirement already satisfied: requests~=2.18 in /usr/local/lib/python3.7/dist-packages (from cirq-aqt==0.13.1->cirq) (2.23.0)\n",
            "Requirement already satisfied: tqdm in /usr/local/lib/python3.7/dist-packages (from cirq-core==0.13.1->cirq) (4.62.3)\n",
            "Requirement already satisfied: pandas in /usr/local/lib/python3.7/dist-packages (from cirq-core==0.13.1->cirq) (1.1.5)\n",
            "Requirement already satisfied: sympy in /usr/local/lib/python3.7/dist-packages (from cirq-core==0.13.1->cirq) (1.7.1)\n",
            "Requirement already satisfied: sortedcontainers~=2.0 in /usr/local/lib/python3.7/dist-packages (from cirq-core==0.13.1->cirq) (2.4.0)\n",
            "Requirement already satisfied: matplotlib~=3.0 in /usr/local/lib/python3.7/dist-packages (from cirq-core==0.13.1->cirq) (3.2.2)\n",
            "Requirement already satisfied: scipy in /usr/local/lib/python3.7/dist-packages (from cirq-core==0.13.1->cirq) (1.7.3)\n",
            "Requirement already satisfied: networkx~=2.4 in /usr/local/lib/python3.7/dist-packages (from cirq-core==0.13.1->cirq) (2.6.3)\n",
            "Requirement already satisfied: duet~=0.2.0 in /usr/local/lib/python3.7/dist-packages (from cirq-core==0.13.1->cirq) (0.2.3)\n",
            "Requirement already satisfied: typing-extensions in /usr/local/lib/python3.7/dist-packages (from cirq-core==0.13.1->cirq) (3.10.0.2)\n",
            "Requirement already satisfied: numpy~=1.16 in /usr/local/lib/python3.7/dist-packages (from cirq-core==0.13.1->cirq) (1.21.5)\n",
            "Requirement already satisfied: google-api-core[grpc]<2.0.0dev,>=1.14.0 in /usr/local/lib/python3.7/dist-packages (from cirq-google==0.13.1->cirq) (1.26.3)\n",
            "Requirement already satisfied: protobuf>=3.13.0 in /usr/local/lib/python3.7/dist-packages (from cirq-google==0.13.1->cirq) (3.17.3)\n",
            "Requirement already satisfied: rfc3339~=6.2 in /usr/local/lib/python3.7/dist-packages (from cirq-rigetti==0.13.1->cirq) (6.2)\n",
            "Requirement already satisfied: python-dateutil~=2.8.1 in /usr/local/lib/python3.7/dist-packages (from cirq-rigetti==0.13.1->cirq) (2.8.2)\n",
            "Requirement already satisfied: idna~=2.10 in /usr/local/lib/python3.7/dist-packages (from cirq-rigetti==0.13.1->cirq) (2.10)\n",
            "Requirement already satisfied: qcs-api-client~=0.8.0 in /usr/local/lib/python3.7/dist-packages (from cirq-rigetti==0.13.1->cirq) (0.8.0)\n",
            "Requirement already satisfied: toml~=0.10.2 in /usr/local/lib/python3.7/dist-packages (from cirq-rigetti==0.13.1->cirq) (0.10.2)\n",
            "Requirement already satisfied: sniffio~=1.2.0 in /usr/local/lib/python3.7/dist-packages (from cirq-rigetti==0.13.1->cirq) (1.2.0)\n",
            "Requirement already satisfied: iso8601~=0.1.14 in /usr/local/lib/python3.7/dist-packages (from cirq-rigetti==0.13.1->cirq) (0.1.16)\n",
            "Requirement already satisfied: rfc3986~=1.5.0 in /usr/local/lib/python3.7/dist-packages (from cirq-rigetti==0.13.1->cirq) (1.5.0)\n",
            "Requirement already satisfied: certifi~=2021.5.30 in /usr/local/lib/python3.7/dist-packages (from cirq-rigetti==0.13.1->cirq) (2021.5.30)\n",
            "Requirement already satisfied: attrs~=20.3.0 in /usr/local/lib/python3.7/dist-packages (from cirq-rigetti==0.13.1->cirq) (20.3.0)\n",
            "Requirement already satisfied: pyjwt~=1.7.1 in /usr/local/lib/python3.7/dist-packages (from cirq-rigetti==0.13.1->cirq) (1.7.1)\n",
            "Requirement already satisfied: httpcore~=0.11.1 in /usr/local/lib/python3.7/dist-packages (from cirq-rigetti==0.13.1->cirq) (0.11.1)\n",
            "Requirement already satisfied: six~=1.16.0 in /usr/local/lib/python3.7/dist-packages (from cirq-rigetti==0.13.1->cirq) (1.16.0)\n",
            "Requirement already satisfied: pyquil~=3.0.0 in /usr/local/lib/python3.7/dist-packages (from cirq-rigetti==0.13.1->cirq) (3.0.1)\n",
            "Requirement already satisfied: pydantic~=1.8.2 in /usr/local/lib/python3.7/dist-packages (from cirq-rigetti==0.13.1->cirq) (1.8.2)\n",
            "Requirement already satisfied: httpx~=0.15.5 in /usr/local/lib/python3.7/dist-packages (from cirq-rigetti==0.13.1->cirq) (0.15.5)\n",
            "Requirement already satisfied: h11~=0.9.0 in /usr/local/lib/python3.7/dist-packages (from cirq-rigetti==0.13.1->cirq) (0.9.0)\n",
            "Requirement already satisfied: retrying~=1.3.3 in /usr/local/lib/python3.7/dist-packages (from cirq-rigetti==0.13.1->cirq) (1.3.3)\n",
            "Requirement already satisfied: packaging>=14.3 in /usr/local/lib/python3.7/dist-packages (from google-api-core[grpc]<2.0.0dev,>=1.14.0->cirq-google==0.13.1->cirq) (21.3)\n",
            "Requirement already satisfied: pytz in /usr/local/lib/python3.7/dist-packages (from google-api-core[grpc]<2.0.0dev,>=1.14.0->cirq-google==0.13.1->cirq) (2018.9)\n",
            "Requirement already satisfied: setuptools>=40.3.0 in /usr/local/lib/python3.7/dist-packages (from google-api-core[grpc]<2.0.0dev,>=1.14.0->cirq-google==0.13.1->cirq) (57.4.0)\n",
            "Requirement already satisfied: google-auth<2.0dev,>=1.21.1 in /usr/local/lib/python3.7/dist-packages (from google-api-core[grpc]<2.0.0dev,>=1.14.0->cirq-google==0.13.1->cirq) (1.35.0)\n",
            "Requirement already satisfied: googleapis-common-protos<2.0dev,>=1.6.0 in /usr/local/lib/python3.7/dist-packages (from google-api-core[grpc]<2.0.0dev,>=1.14.0->cirq-google==0.13.1->cirq) (1.54.0)\n",
            "Requirement already satisfied: grpcio<2.0dev,>=1.29.0 in /usr/local/lib/python3.7/dist-packages (from google-api-core[grpc]<2.0.0dev,>=1.14.0->cirq-google==0.13.1->cirq) (1.43.0)\n",
            "Requirement already satisfied: pyasn1-modules>=0.2.1 in /usr/local/lib/python3.7/dist-packages (from google-auth<2.0dev,>=1.21.1->google-api-core[grpc]<2.0.0dev,>=1.14.0->cirq-google==0.13.1->cirq) (0.2.8)\n",
            "Requirement already satisfied: cachetools<5.0,>=2.0.0 in /usr/local/lib/python3.7/dist-packages (from google-auth<2.0dev,>=1.21.1->google-api-core[grpc]<2.0.0dev,>=1.14.0->cirq-google==0.13.1->cirq) (4.2.4)\n",
            "Requirement already satisfied: rsa<5,>=3.1.4 in /usr/local/lib/python3.7/dist-packages (from google-auth<2.0dev,>=1.21.1->google-api-core[grpc]<2.0.0dev,>=1.14.0->cirq-google==0.13.1->cirq) (4.8)\n",
            "Requirement already satisfied: kiwisolver>=1.0.1 in /usr/local/lib/python3.7/dist-packages (from matplotlib~=3.0->cirq-core==0.13.1->cirq) (1.3.2)\n",
            "Requirement already satisfied: pyparsing!=2.0.4,!=2.1.2,!=2.1.6,>=2.0.1 in /usr/local/lib/python3.7/dist-packages (from matplotlib~=3.0->cirq-core==0.13.1->cirq) (3.0.6)\n",
            "Requirement already satisfied: cycler>=0.10 in /usr/local/lib/python3.7/dist-packages (from matplotlib~=3.0->cirq-core==0.13.1->cirq) (0.11.0)\n",
            "Requirement already satisfied: pyasn1<0.5.0,>=0.4.6 in /usr/local/lib/python3.7/dist-packages (from pyasn1-modules>=0.2.1->google-auth<2.0dev,>=1.21.1->google-api-core[grpc]<2.0.0dev,>=1.14.0->cirq-google==0.13.1->cirq) (0.4.8)\n",
            "Requirement already satisfied: rpcq<4.0.0,>=3.6.0 in /usr/local/lib/python3.7/dist-packages (from pyquil~=3.0.0->cirq-rigetti==0.13.1->cirq) (3.9.2)\n",
            "Requirement already satisfied: importlib-metadata<4.0.0,>=3.7.3 in /usr/local/lib/python3.7/dist-packages (from pyquil~=3.0.0->cirq-rigetti==0.13.1->cirq) (3.10.1)\n",
            "Requirement already satisfied: lark<0.12.0,>=0.11.1 in /usr/local/lib/python3.7/dist-packages (from pyquil~=3.0.0->cirq-rigetti==0.13.1->cirq) (0.11.3)\n",
            "Requirement already satisfied: retry<0.10.0,>=0.9.2 in /usr/local/lib/python3.7/dist-packages (from pyquil~=3.0.0->cirq-rigetti==0.13.1->cirq) (0.9.2)\n",
            "Requirement already satisfied: zipp>=0.5 in /usr/local/lib/python3.7/dist-packages (from importlib-metadata<4.0.0,>=3.7.3->pyquil~=3.0.0->cirq-rigetti==0.13.1->cirq) (3.7.0)\n",
            "Requirement already satisfied: chardet<4,>=3.0.2 in /usr/local/lib/python3.7/dist-packages (from requests~=2.18->cirq-aqt==0.13.1->cirq) (3.0.4)\n",
            "Requirement already satisfied: urllib3!=1.25.0,!=1.25.1,<1.26,>=1.21.1 in /usr/local/lib/python3.7/dist-packages (from requests~=2.18->cirq-aqt==0.13.1->cirq) (1.24.3)\n",
            "Requirement already satisfied: decorator>=3.4.2 in /usr/local/lib/python3.7/dist-packages (from retry<0.10.0,>=0.9.2->pyquil~=3.0.0->cirq-rigetti==0.13.1->cirq) (4.4.2)\n",
            "Requirement already satisfied: py<2.0.0,>=1.4.26 in /usr/local/lib/python3.7/dist-packages (from retry<0.10.0,>=0.9.2->pyquil~=3.0.0->cirq-rigetti==0.13.1->cirq) (1.11.0)\n",
            "Requirement already satisfied: ruamel.yaml in /usr/local/lib/python3.7/dist-packages (from rpcq<4.0.0,>=3.6.0->pyquil~=3.0.0->cirq-rigetti==0.13.1->cirq) (0.17.20)\n",
            "Requirement already satisfied: pyzmq>=17 in /usr/local/lib/python3.7/dist-packages (from rpcq<4.0.0,>=3.6.0->pyquil~=3.0.0->cirq-rigetti==0.13.1->cirq) (22.3.0)\n",
            "Requirement already satisfied: msgpack<1.0,>=0.6 in /usr/local/lib/python3.7/dist-packages (from rpcq<4.0.0,>=3.6.0->pyquil~=3.0.0->cirq-rigetti==0.13.1->cirq) (0.6.2)\n",
            "Requirement already satisfied: python-rapidjson in /usr/local/lib/python3.7/dist-packages (from rpcq<4.0.0,>=3.6.0->pyquil~=3.0.0->cirq-rigetti==0.13.1->cirq) (1.5)\n",
            "Requirement already satisfied: ruamel.yaml.clib>=0.2.6 in /usr/local/lib/python3.7/dist-packages (from ruamel.yaml->rpcq<4.0.0,>=3.6.0->pyquil~=3.0.0->cirq-rigetti==0.13.1->cirq) (0.2.6)\n",
            "Requirement already satisfied: mpmath>=0.19 in /usr/local/lib/python3.7/dist-packages (from sympy->cirq-core==0.13.1->cirq) (1.2.1)\n"
          ]
        }
      ],
      "source": [
        "# Import Libraries\n",
        "! pip3 install cirq"
      ]
    },
    {
      "cell_type": "code",
      "execution_count": 2,
      "metadata": {
        "id": "XXYeU3HVUFx8"
      },
      "outputs": [],
      "source": [
        "import cirq\n",
        "import random\n",
        "import numpy as np\n",
        "# Define three qubits: msg = qubit[0], qalice = qubit[1], qbob = qubit[2]\n",
        "qubit=[0]*(3)\n",
        "qubit[0] = cirq.NamedQubit('msg')\n",
        "qubit[1] = cirq.NamedQubit('qalice')\n",
        "qubit[2] = cirq.NamedQubit('qbob')\n",
        "circuit = cirq.Circuit()\n",
        "# Create a Bell state entangled pair to be shared between Alice and Bob.\n",
        "circuit.append([cirq.H(qubit[1]), cirq.CNOT(qubit[1], qubit[2])])\n",
        "# Creates a random state for the message\n",
        "ranX = random.random()\n",
        "ranY = random.random()\n",
        "circuit.append([cirq.X(qubit[0])**ranX, cirq.Y(qubit[0])**ranY])"
      ]
    },
    {
      "cell_type": "code",
      "execution_count": 3,
      "metadata": {
        "id": "3B9H0HIWUFyC"
      },
      "outputs": [],
      "source": [
        "# Unitary operator rotating the two-qubit basis of the message and Alice's \n",
        "# entangled qubit rotates the Bell state basis to the computational basis:\n",
        "circuit.append([cirq.CNOT(qubit[0], qubit[1]), cirq.H(qubit[0])])\n",
        "# combining now with a measurement in the computational basis,\n",
        "# we effectively have projected this two-qubit state onto one of the four \n",
        "# states of the Bell state basis:\n",
        "circuit.append(cirq.measure(qubit[0], qubit[1]))"
      ]
    },
    {
      "cell_type": "code",
      "source": [
        "# Use the two classical bits from the Bell measurement to recover the original \n",
        "# message on Bob's entangled qubit.\n",
        "circuit.append([cirq.CNOT(qubit[1], qubit[2]), cirq.CZ(qubit[0], qubit[2])])\n",
        "print(\"Circuit:\")\n",
        "print(circuit)"
      ],
      "metadata": {
        "id": "fcgDTuSDgYt3",
        "colab": {
          "base_uri": "https://localhost:8080/"
        },
        "outputId": "90fa882e-5e32-43c9-f892-cc4848dd1629"
      },
      "execution_count": 4,
      "outputs": [
        {
          "output_type": "stream",
          "name": "stdout",
          "text": [
            "Circuit:\n",
            "msg: ──────X^0.137───Y^0.046───@───H───M───────@───\n",
            "                               │       │       │\n",
            "qalice: ───H─────────@─────────X───────M───@───┼───\n",
            "                     │                     │   │\n",
            "qbob: ───────────────X─────────────────────X───@───\n"
          ]
        }
      ]
    },
    {
      "cell_type": "code",
      "source": [
        "sim = cirq.Simulator()\n",
        "# Simulation that applies the random X and Y gates to\n",
        "# create the message.\n",
        "q0 = cirq.LineQubit(0)\n",
        "message = sim.simulate(cirq.Circuit([cirq.X(q0)**ranX, cirq.Y(q0)**ranY]))\n",
        "print(\"\\nBloch sphere of the message qubit in the initial state:\")\n",
        "expected = cirq.bloch_vector_from_state_vector(message.final_state_vector,0)\n",
        "print(\"x: \", np.around(expected[0], 4), \" y: \", np.around(expected[1], 4), \n",
        "      \" z: \", np.around(expected[2], 4))"
      ],
      "metadata": {
        "colab": {
          "base_uri": "https://localhost:8080/"
        },
        "id": "TuC6lnQXiSl2",
        "outputId": "51a0ca32-c881-4f41-d2c2-4bcd3dcab59a"
      },
      "execution_count": 5,
      "outputs": [
        {
          "output_type": "stream",
          "name": "stdout",
          "text": [
            "\n",
            "Bloch sphere of the message qubit in the initial state:\n",
            "x:  0.1308  y:  -0.4165  z:  0.8997\n"
          ]
        }
      ]
    },
    {
      "cell_type": "code",
      "source": [
        "# Records the final state of the simulation.\n",
        "final_results = sim.simulate(circuit)\n",
        "print(\"\\nBloch sphere of Bob's qubit in the final state:\")\n",
        "teleported = cirq.bloch_vector_from_state_vector(final_results.final_state_vector, 2)\n",
        "print(\"x: \", np.around(teleported[0], 4), \" y: \", np.around(teleported[1], 4), \n",
        "      \" z: \", np.around(teleported[2], 4))\n",
        "print(\"\\nBloch sphere of message qubit in the final state:\")\n",
        "message_final = cirq.bloch_vector_from_state_vector(final_results.final_state_vector, 0)\n",
        "print(\"x: \", np.around(message_final[0], 4), \" y: \", np.around(message_final[1], 4), \n",
        "      \" z: \", np.around(message_final[2], 4))"
      ],
      "metadata": {
        "colab": {
          "base_uri": "https://localhost:8080/"
        },
        "id": "TV5Fqg8oi-_-",
        "outputId": "da9d5a42-7976-4850-f986-fceb36ec628f"
      },
      "execution_count": 6,
      "outputs": [
        {
          "output_type": "stream",
          "name": "stdout",
          "text": [
            "\n",
            "Bloch sphere of Bob's qubit in the final state:\n",
            "x:  0.1308  y:  -0.4165  z:  0.8997\n",
            "\n",
            "Bloch sphere of message qubit in the final state:\n",
            "x:  0.0  y:  0.0  z:  1.0\n"
          ]
        }
      ]
    },
    {
      "cell_type": "code",
      "source": [
        "# Unitary operator rotating the two-qubit basis of the message and Alice's \n",
        "# entangled qubit; rotates Bell state basis to the computational basis:\n",
        "circuit.append([cirq.CNOT(qubit[0], qubit[1]), cirq.H(qubit[0])])\n",
        "# This time skip the measurement\n",
        "# circuit.append(cirq.measure(qubit[0], qubit[1]))\n",
        "# Use the same operations as before to recover the original quantum message on\n",
        "# Bob's entangled qubit\n",
        "circuit.append([cirq.CNOT(qubit[1], qubit[2]), cirq.CZ(qubit[0], qubit[2])])"
      ],
      "metadata": {
        "id": "U8B3aHaHi_D3"
      },
      "execution_count": 7,
      "outputs": []
    },
    {
      "cell_type": "code",
      "source": [
        ""
      ],
      "metadata": {
        "id": "stzMavL0yyeh"
      },
      "execution_count": null,
      "outputs": []
    }
  ],
  "metadata": {
    "kernelspec": {
      "display_name": "Python 3",
      "language": "python",
      "name": "python3"
    },
    "language_info": {
      "codemirror_mode": {
        "name": "ipython",
        "version": 3
      },
      "file_extension": ".py",
      "mimetype": "text/x-python",
      "name": "python",
      "nbconvert_exporter": "python",
      "pygments_lexer": "ipython3",
      "version": "3.7.4"
    },
    "colab": {
      "name": "TeleportationCircuit.ipynb",
      "provenance": [],
      "collapsed_sections": [],
      "include_colab_link": true
    }
  },
  "nbformat": 4,
  "nbformat_minor": 0
}