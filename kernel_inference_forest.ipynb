{
  "nbformat": 4,
  "nbformat_minor": 0,
  "metadata": {
    "colab": {
      "name": "kernel_inference_forest.ipynb",
      "provenance": [],
      "collapsed_sections": [],
      "authorship_tag": "ABX9TyNSG7tDbuzutiBbuHFxjdVJ",
      "include_colab_link": true
    },
    "kernelspec": {
      "name": "python3",
      "display_name": "Python 3"
    },
    "language_info": {
      "name": "python"
    }
  },
  "cells": [
    {
      "cell_type": "markdown",
      "metadata": {
        "id": "view-in-github",
        "colab_type": "text"
      },
      "source": [
        "<a href=\"https://colab.research.google.com/github/gopalm-ai/Quantum_Machine_Learning_An_Applied_Approach/blob/main/kernel_inference_forest.ipynb\" target=\"_parent\"><img src=\"https://colab.research.google.com/assets/colab-badge.svg\" alt=\"Open In Colab\"/></a>"
      ]
    },
    {
      "cell_type": "code",
      "metadata": {
        "id": "v7StdtaVxGcQ",
        "colab": {
          "base_uri": "https://localhost:8080/"
        },
        "outputId": "2a5d6404-ecc0-44b4-c99e-afdc4d16c591"
      },
      "source": [
        "# Import Libraries\n",
        "! pip3 install pyquil\n",
        "! pip3 install qutip"
      ],
      "execution_count": 1,
      "outputs": [
        {
          "output_type": "stream",
          "name": "stdout",
          "text": [
            "Requirement already satisfied: pyquil in /usr/local/lib/python3.7/dist-packages (3.0.1)\n",
            "Requirement already satisfied: importlib-metadata<4.0.0,>=3.7.3 in /usr/local/lib/python3.7/dist-packages (from pyquil) (3.10.1)\n",
            "Requirement already satisfied: scipy<2.0.0,>=1.6.1 in /usr/local/lib/python3.7/dist-packages (from pyquil) (1.7.3)\n",
            "Requirement already satisfied: qcs-api-client<0.9.0,>=0.8.0 in /usr/local/lib/python3.7/dist-packages (from pyquil) (0.8.0)\n",
            "Requirement already satisfied: rpcq<4.0.0,>=3.6.0 in /usr/local/lib/python3.7/dist-packages (from pyquil) (3.9.2)\n",
            "Requirement already satisfied: numpy<2.0,>=1.20 in /usr/local/lib/python3.7/dist-packages (from pyquil) (1.21.5)\n",
            "Requirement already satisfied: retry<0.10.0,>=0.9.2 in /usr/local/lib/python3.7/dist-packages (from pyquil) (0.9.2)\n",
            "Requirement already satisfied: networkx<3.0,>=2.5 in /usr/local/lib/python3.7/dist-packages (from pyquil) (2.6.3)\n",
            "Requirement already satisfied: lark<0.12.0,>=0.11.1 in /usr/local/lib/python3.7/dist-packages (from pyquil) (0.11.3)\n",
            "Requirement already satisfied: typing-extensions>=3.6.4 in /usr/local/lib/python3.7/dist-packages (from importlib-metadata<4.0.0,>=3.7.3->pyquil) (3.10.0.2)\n",
            "Requirement already satisfied: zipp>=0.5 in /usr/local/lib/python3.7/dist-packages (from importlib-metadata<4.0.0,>=3.7.3->pyquil) (3.7.0)\n",
            "Requirement already satisfied: httpx<0.16.0,>=0.15.0 in /usr/local/lib/python3.7/dist-packages (from qcs-api-client<0.9.0,>=0.8.0->pyquil) (0.15.5)\n",
            "Requirement already satisfied: pyjwt<2.0.0,>=1.7.1 in /usr/local/lib/python3.7/dist-packages (from qcs-api-client<0.9.0,>=0.8.0->pyquil) (1.7.1)\n",
            "Requirement already satisfied: attrs<21.0.0,>=20.1.0 in /usr/local/lib/python3.7/dist-packages (from qcs-api-client<0.9.0,>=0.8.0->pyquil) (20.3.0)\n",
            "Requirement already satisfied: rfc3339<7.0,>=6.2 in /usr/local/lib/python3.7/dist-packages (from qcs-api-client<0.9.0,>=0.8.0->pyquil) (6.2)\n",
            "Requirement already satisfied: iso8601<0.2.0,>=0.1.13 in /usr/local/lib/python3.7/dist-packages (from qcs-api-client<0.9.0,>=0.8.0->pyquil) (0.1.16)\n",
            "Requirement already satisfied: pydantic<2.0.0,>=1.7.2 in /usr/local/lib/python3.7/dist-packages (from qcs-api-client<0.9.0,>=0.8.0->pyquil) (1.9.0)\n",
            "Requirement already satisfied: retrying<2.0.0,>=1.3.3 in /usr/local/lib/python3.7/dist-packages (from qcs-api-client<0.9.0,>=0.8.0->pyquil) (1.3.3)\n",
            "Requirement already satisfied: toml<0.11.0,>=0.10.2 in /usr/local/lib/python3.7/dist-packages (from qcs-api-client<0.9.0,>=0.8.0->pyquil) (0.10.2)\n",
            "Requirement already satisfied: python-dateutil<3.0.0,>=2.8.1 in /usr/local/lib/python3.7/dist-packages (from qcs-api-client<0.9.0,>=0.8.0->pyquil) (2.8.2)\n",
            "Requirement already satisfied: httpcore==0.11.* in /usr/local/lib/python3.7/dist-packages (from httpx<0.16.0,>=0.15.0->qcs-api-client<0.9.0,>=0.8.0->pyquil) (0.11.1)\n",
            "Requirement already satisfied: sniffio in /usr/local/lib/python3.7/dist-packages (from httpx<0.16.0,>=0.15.0->qcs-api-client<0.9.0,>=0.8.0->pyquil) (1.2.0)\n",
            "Requirement already satisfied: certifi in /usr/local/lib/python3.7/dist-packages (from httpx<0.16.0,>=0.15.0->qcs-api-client<0.9.0,>=0.8.0->pyquil) (2021.10.8)\n",
            "Requirement already satisfied: rfc3986[idna2008]<2,>=1.3 in /usr/local/lib/python3.7/dist-packages (from httpx<0.16.0,>=0.15.0->qcs-api-client<0.9.0,>=0.8.0->pyquil) (1.5.0)\n",
            "Requirement already satisfied: h11<0.10,>=0.8 in /usr/local/lib/python3.7/dist-packages (from httpcore==0.11.*->httpx<0.16.0,>=0.15.0->qcs-api-client<0.9.0,>=0.8.0->pyquil) (0.9.0)\n",
            "Requirement already satisfied: six>=1.5 in /usr/local/lib/python3.7/dist-packages (from python-dateutil<3.0.0,>=2.8.1->qcs-api-client<0.9.0,>=0.8.0->pyquil) (1.15.0)\n",
            "Requirement already satisfied: py<2.0.0,>=1.4.26 in /usr/local/lib/python3.7/dist-packages (from retry<0.10.0,>=0.9.2->pyquil) (1.11.0)\n",
            "Requirement already satisfied: decorator>=3.4.2 in /usr/local/lib/python3.7/dist-packages (from retry<0.10.0,>=0.9.2->pyquil) (4.4.2)\n",
            "Requirement already satisfied: idna in /usr/local/lib/python3.7/dist-packages (from rfc3986[idna2008]<2,>=1.3->httpx<0.16.0,>=0.15.0->qcs-api-client<0.9.0,>=0.8.0->pyquil) (2.10)\n",
            "Requirement already satisfied: msgpack<1.0,>=0.6 in /usr/local/lib/python3.7/dist-packages (from rpcq<4.0.0,>=3.6.0->pyquil) (0.6.2)\n",
            "Requirement already satisfied: python-rapidjson in /usr/local/lib/python3.7/dist-packages (from rpcq<4.0.0,>=3.6.0->pyquil) (1.5)\n",
            "Requirement already satisfied: ruamel.yaml in /usr/local/lib/python3.7/dist-packages (from rpcq<4.0.0,>=3.6.0->pyquil) (0.17.20)\n",
            "Requirement already satisfied: pyzmq>=17 in /usr/local/lib/python3.7/dist-packages (from rpcq<4.0.0,>=3.6.0->pyquil) (22.3.0)\n",
            "Requirement already satisfied: ruamel.yaml.clib>=0.2.6 in /usr/local/lib/python3.7/dist-packages (from ruamel.yaml->rpcq<4.0.0,>=3.6.0->pyquil) (0.2.6)\n",
            "Requirement already satisfied: qutip in /usr/local/lib/python3.7/dist-packages (4.6.2)\n",
            "Requirement already satisfied: scipy>=1.0 in /usr/local/lib/python3.7/dist-packages (from qutip) (1.7.3)\n",
            "Requirement already satisfied: numpy>=1.16.6 in /usr/local/lib/python3.7/dist-packages (from qutip) (1.21.5)\n",
            "Requirement already satisfied: packaging in /usr/local/lib/python3.7/dist-packages (from qutip) (21.3)\n",
            "Requirement already satisfied: pyparsing!=3.0.5,>=2.0.2 in /usr/local/lib/python3.7/dist-packages (from packaging->qutip) (3.0.6)\n"
          ]
        }
      ]
    },
    {
      "cell_type": "code",
      "source": [
        "from pyquil import get_qc, Program\n",
        "from pyquil.gates import CNOT, Z, MEASURE\n",
        "from pyquil.api import local_forest_runtime"
      ],
      "metadata": {
        "id": "fRoR-Y36ySnk"
      },
      "execution_count": 2,
      "outputs": []
    },
    {
      "cell_type": "code",
      "source": [
        "! [ -z \"$(which qvm)\" ] &&\\\n",
        "  apt update &&\\\n",
        "  apt install jq &&\\\n",
        "  export LATEST_FOREST_SDK_VERSION=$(curl -s https://downloads.rigetti.com/qcs-sdk/versions | jq -r '.versions[0].sdk') &&\\\n",
        "  curl -f https://downloads.rigetti.com/qcs-sdk/forest-sdk-$LATEST_FOREST_SDK_VERSION-linux-deb.tar.bz2 -o $PWD/forest-sdk-$LATEST_FOREST_SDK_VERSION-linux-deb.tar.bz2 &&\\\n",
        "  tar -xf forest-sdk-$LATEST_FOREST_SDK_VERSION-linux-deb.tar.bz2 &&\\\n",
        "  ./forest-sdk-$LATEST_FOREST_SDK_VERSION-linux-deb/forest-sdk-$LATEST_FOREST_SDK_VERSION-linux-deb.run &&\\\n",
        "  quilc --version &&\\\n",
        "  qvm --version"
      ],
      "metadata": {
        "id": "WbB-UdBVSveV",
        "colab": {
          "base_uri": "https://localhost:8080/"
        },
        "outputId": "2f6cf1a5-5636-4175-ee84-15c3ca5985d0"
      },
      "execution_count": 4,
      "outputs": [
        {
          "output_type": "stream",
          "name": "stdout",
          "text": [
            "\u001b[33m\r0% [Working]\u001b[0m\r            \rGet:1 https://cloud.r-project.org/bin/linux/ubuntu bionic-cran40/ InRelease [3,626 B]\n",
            "Ign:2 https://developer.download.nvidia.com/compute/cuda/repos/ubuntu1804/x86_64  InRelease\n",
            "Get:3 http://security.ubuntu.com/ubuntu bionic-security InRelease [88.7 kB]\n",
            "Ign:4 https://developer.download.nvidia.com/compute/machine-learning/repos/ubuntu1804/x86_64  InRelease\n",
            "Get:5 https://developer.download.nvidia.com/compute/cuda/repos/ubuntu1804/x86_64  Release [696 B]\n",
            "Hit:6 https://developer.download.nvidia.com/compute/machine-learning/repos/ubuntu1804/x86_64  Release\n",
            "Get:7 https://developer.download.nvidia.com/compute/cuda/repos/ubuntu1804/x86_64  Release.gpg [836 B]\n",
            "Get:8 http://ppa.launchpad.net/c2d4u.team/c2d4u4.0+/ubuntu bionic InRelease [15.9 kB]\n",
            "Hit:9 http://archive.ubuntu.com/ubuntu bionic InRelease\n",
            "Get:10 https://cloud.r-project.org/bin/linux/ubuntu bionic-cran40/ Packages [76.0 kB]\n",
            "Get:11 http://archive.ubuntu.com/ubuntu bionic-updates InRelease [88.7 kB]\n",
            "Hit:13 http://ppa.launchpad.net/cran/libgit2/ubuntu bionic InRelease\n",
            "Get:14 https://developer.download.nvidia.com/compute/cuda/repos/ubuntu1804/x86_64  Packages [868 kB]\n",
            "Get:15 http://archive.ubuntu.com/ubuntu bionic-backports InRelease [74.6 kB]\n",
            "Get:16 http://ppa.launchpad.net/deadsnakes/ppa/ubuntu bionic InRelease [15.9 kB]\n",
            "Get:17 http://security.ubuntu.com/ubuntu bionic-security/restricted amd64 Packages [738 kB]\n",
            "Hit:18 http://ppa.launchpad.net/graphics-drivers/ppa/ubuntu bionic InRelease\n",
            "Get:19 http://security.ubuntu.com/ubuntu bionic-security/main amd64 Packages [2,516 kB]\n",
            "Get:20 http://ppa.launchpad.net/c2d4u.team/c2d4u4.0+/ubuntu bionic/main Sources [1,823 kB]\n",
            "Get:21 http://security.ubuntu.com/ubuntu bionic-security/universe amd64 Packages [1,463 kB]\n",
            "Get:22 http://archive.ubuntu.com/ubuntu bionic-updates/main amd64 Packages [2,954 kB]\n",
            "Get:23 http://archive.ubuntu.com/ubuntu bionic-updates/universe amd64 Packages [2,241 kB]\n",
            "Get:24 http://archive.ubuntu.com/ubuntu bionic-updates/restricted amd64 Packages [771 kB]\n",
            "Get:25 http://ppa.launchpad.net/c2d4u.team/c2d4u4.0+/ubuntu bionic/main amd64 Packages [934 kB]\n",
            "Get:26 http://ppa.launchpad.net/deadsnakes/ppa/ubuntu bionic/main amd64 Packages [45.3 kB]\n",
            "Fetched 14.7 MB in 4s (3,437 kB/s)\n",
            "Reading package lists... Done\n",
            "Building dependency tree       \n",
            "Reading state information... Done\n",
            "58 packages can be upgraded. Run 'apt list --upgradable' to see them.\n",
            "Reading package lists... Done\n",
            "Building dependency tree       \n",
            "Reading state information... Done\n",
            "The following additional packages will be installed:\n",
            "  libjq1 libonig4\n",
            "The following NEW packages will be installed:\n",
            "  jq libjq1 libonig4\n",
            "0 upgraded, 3 newly installed, 0 to remove and 58 not upgraded.\n",
            "Need to get 276 kB of archives.\n",
            "After this operation, 930 kB of additional disk space will be used.\n",
            "Get:1 http://archive.ubuntu.com/ubuntu bionic/universe amd64 libonig4 amd64 6.7.0-1 [119 kB]\n",
            "Get:2 http://archive.ubuntu.com/ubuntu bionic/universe amd64 libjq1 amd64 1.5+dfsg-2 [111 kB]\n",
            "Get:3 http://archive.ubuntu.com/ubuntu bionic/universe amd64 jq amd64 1.5+dfsg-2 [45.6 kB]\n",
            "Fetched 276 kB in 1s (264 kB/s)\n",
            "Selecting previously unselected package libonig4:amd64.\n",
            "(Reading database ... 155229 files and directories currently installed.)\n",
            "Preparing to unpack .../libonig4_6.7.0-1_amd64.deb ...\n",
            "Unpacking libonig4:amd64 (6.7.0-1) ...\n",
            "Selecting previously unselected package libjq1:amd64.\n",
            "Preparing to unpack .../libjq1_1.5+dfsg-2_amd64.deb ...\n",
            "Unpacking libjq1:amd64 (1.5+dfsg-2) ...\n",
            "Selecting previously unselected package jq.\n",
            "Preparing to unpack .../jq_1.5+dfsg-2_amd64.deb ...\n",
            "Unpacking jq (1.5+dfsg-2) ...\n",
            "Setting up libonig4:amd64 (6.7.0-1) ...\n",
            "Setting up libjq1:amd64 (1.5+dfsg-2) ...\n",
            "Setting up jq (1.5+dfsg-2) ...\n",
            "Processing triggers for man-db (2.8.3-2ubuntu0.1) ...\n",
            "Processing triggers for libc-bin (2.27-3ubuntu1.3) ...\n",
            "/sbin/ldconfig.real: /usr/local/lib/python3.7/dist-packages/ideep4py/lib/libmkldnn.so.0 is not a symbolic link\n",
            "\n",
            "  % Total    % Received % Xferd  Average Speed   Time    Time     Time  Current\n",
            "                                 Dload  Upload   Total   Spent    Left  Speed\n",
            "100 54.1M  100 54.1M    0     0  34.1M      0  0:00:01  0:00:01 --:--:-- 34.1M\n",
            "Verifying archive integrity...     0% \b\b\b\b\b\b\b    7% \b\b\b\b\b\b\b   14% \b\b\b\b\b\b\b   22% \b\b\b\b\b\b\b   29% \b\b\b\b\b\b\b   37% \b\b\b\b\b\b\b   44% \b\b\b\b\b\b\b   51% \b\b\b\b\b\b\b   59% \b\b\b\b\b\b\b   66% \b\b\b\b\b\b\b   74% \b\b\b\b\b\b\b   81% \b\b\b\b\b\b\b   89% \b\b\b\b\b\b\b   96% \b\b\b\b\b\b\b 100%   MD5 checksums are OK. All good.\n",
            "Uncompressing forest-sdk-deb     0% \b\b\b\b\b\b\b    7% \b\b\b\b\b\b\b   14% \b\b\b\b\b\b\b   22% \b\b\b\b\b\b\b   29% \b\b\b\b\b\b\b   37% \b\b\b\b\b\b\b   44% \b\b\b\b\b\b\b   51% \b\b\b\b\b\b\b   59% \b\b\b\b\b\b\b   66% \b\b\b\b\b\b\b   74% \b\b\b\b\b\b\b   81% \b\b\b\b\b\b\b   89% \b\b\b\b\b\b\b   96% \b\b\b\b\b\b\b 100%  \n",
            "Reading package lists... Done\n",
            "Building dependency tree       \n",
            "Reading state information... Done\n",
            "libblas-dev is already the newest version (3.7.1-4ubuntu1).\n",
            "libblas-dev set to manually installed.\n",
            "liblapack-dev is already the newest version (3.7.1-4ubuntu1).\n",
            "The following NEW packages will be installed:\n",
            "  libffi-dev\n",
            "0 upgraded, 1 newly installed, 0 to remove and 58 not upgraded.\n",
            "Need to get 156 kB of archives.\n",
            "After this operation, 362 kB of additional disk space will be used.\n",
            "Get:1 http://archive.ubuntu.com/ubuntu bionic/main amd64 libffi-dev amd64 3.2.1-8 [156 kB]\n",
            "Fetched 156 kB in 1s (202 kB/s)\n",
            "Selecting previously unselected package libffi-dev:amd64.\n",
            "(Reading database ... 155246 files and directories currently installed.)\n",
            "Preparing to unpack .../libffi-dev_3.2.1-8_amd64.deb ...\n",
            "Unpacking libffi-dev:amd64 (3.2.1-8) ...\n",
            "Setting up libffi-dev:amd64 (3.2.1-8) ...\n",
            "Processing triggers for man-db (2.8.3-2ubuntu0.1) ...\n",
            "Selecting previously unselected package forest-sdk.\n",
            "(Reading database ... 155281 files and directories currently installed.)\n",
            "Preparing to unpack forest-sdk_2.23.0.deb ...\n",
            "Unpacking forest-sdk (2.23.0) ...\n",
            "Setting up forest-sdk (2.23.0) ...\n",
            "Processing triggers for man-db (2.8.3-2ubuntu0.1) ...\n",
            "1.23.0 [e6c0939]\n",
            "1.17.1 [cf3f91f]\n"
          ]
        }
      ]
    },
    {
      "cell_type": "code",
      "source": [
        "import subprocess\n",
        "\n",
        "subprocess.Popen([\"qvm\", \"--quiet\", \"-S\"])\n",
        "subprocess.Popen([\"quilc\", \"--quiet\", \"-R\"])"
      ],
      "metadata": {
        "colab": {
          "base_uri": "https://localhost:8080/"
        },
        "id": "RTJB6o8ZU5uW",
        "outputId": "dc791c71-58eb-4f00-dd42-4425b5d78b60"
      },
      "execution_count": 5,
      "outputs": [
        {
          "output_type": "execute_result",
          "data": {
            "text/plain": [
              "<subprocess.Popen at 0x7ffb667aecd0>"
            ]
          },
          "metadata": {},
          "execution_count": 5
        }
      ]
    },
    {
      "cell_type": "code",
      "source": [
        "from pyquil import Program, get_qc\n",
        "from pyquil.gates import *\n",
        "import cmath\n",
        "import matplotlib.pyplot as plt\n",
        "import numpy as np\n",
        "from pyquil.api import QCSClientConfiguration, EngagementManager\n",
        "from pyquil.api import WavefunctionSimulator\n",
        "from pyquil.api import QVM\n",
        "from qutip import Bloch\n",
        "from tempfile import mkdtemp\n",
        "import itertools\n",
        "import socket\n",
        "import subprocess\n",
        "qvm = QVM()"
      ],
      "metadata": {
        "id": "ne2DWOZeYK5A"
      },
      "execution_count": 6,
      "outputs": []
    },
    {
      "cell_type": "code",
      "source": [
        "## define a function for amplitudes\n",
        "\n",
        "def get_amplitudes(circuit):\n",
        "  wf_sim = WavefunctionSimulator()\n",
        "  wavefunction = wf_sim.wavefunction(circuit)\n",
        "  amplitudes = wavefunction.amplitudes\n",
        "  return amplitudes"
      ],
      "metadata": {
        "id": "za4ofPWgnHG0"
      },
      "execution_count": 7,
      "outputs": []
    },
    {
      "cell_type": "code",
      "source": [
        "ancilla_qubit = 0\n",
        "index_qubit = 1\n",
        "data_qubit = 2\n",
        "class_qubit = 3\n",
        "training_set = [[0, 1], [np.sqrt(2)/2, np.sqrt(2)/2]]\n",
        "labels = [0, 1]\n",
        "test_set = [[1, 0]]\n",
        "test_angles = [2*np.arccos(test_set[0][0])/2]\n",
        "training_angle = (2*np.arccos(training_set[1][0]))/4\n",
        "angles = [test_angles[0], training_angle]\n",
        "circuit = Program()"
      ],
      "metadata": {
        "id": "OqSr-j515cPw"
      },
      "execution_count": 21,
      "outputs": []
    },
    {
      "cell_type": "code",
      "source": [
        "# Create uniform superpositions of the ancilla and index qubits\n",
        "circuit += H(ancilla_qubit)\n",
        "circuit += H(index_qubit)"
      ],
      "metadata": {
        "id": "l4KptPLh6t9p"
      },
      "execution_count": 22,
      "outputs": []
    },
    {
      "cell_type": "code",
      "source": [
        "# Entangle the test instance with ground state of ancilla\n",
        "circuit += CNOT(ancilla_qubit, data_qubit)\n",
        "circuit += X(ancilla_qubit)"
      ],
      "metadata": {
        "id": "JnZEl-nF_RiA"
      },
      "execution_count": 23,
      "outputs": []
    },
    {
      "cell_type": "code",
      "source": [
        "# App;y Identity to Class state\n",
        "circuit += I(class_qubit)\n",
        "print('Input = \\n', get_amplitudes(circuit))"
      ],
      "metadata": {
        "colab": {
          "base_uri": "https://localhost:8080/"
        },
        "id": "awr6EhNu_gA4",
        "outputId": "e2077a12-d242-476a-c6c7-a891ac2137b5"
      },
      "execution_count": 24,
      "outputs": [
        {
          "output_type": "stream",
          "name": "stdout",
          "text": [
            "Input = \n",
            " [0. +0.j 0.5+0.j 0. +0.j 0.5+0.j 0.5+0.j 0. +0.j 0.5+0.j 0. +0.j 0. +0.j\n",
            " 0. +0.j 0. +0.j 0. +0.j 0. +0.j 0. +0.j 0. +0.j 0. +0.j]\n"
          ]
        }
      ]
    },
    {
      "cell_type": "code",
      "source": [
        "# First training instance\n",
        "circuit += CCNOT(ancilla_qubit, index_qubit, data_qubit)\n",
        "circuit += X(index_qubit)\n",
        "print('First training instance = \\n', get_amplitudes(circuit))"
      ],
      "metadata": {
        "colab": {
          "base_uri": "https://localhost:8080/"
        },
        "id": "HJE9JFfo_q7d",
        "outputId": "f944fcbc-9b10-40bd-a1d6-560ee0663abd"
      },
      "execution_count": 25,
      "outputs": [
        {
          "output_type": "stream",
          "name": "stdout",
          "text": [
            "First training instance = \n",
            " [0. +0.j 0. +0.j 0. +0.j 0.5+0.j 0.5+0.j 0.5+0.j 0.5+0.j 0. +0.j 0. +0.j\n",
            " 0. +0.j 0. +0.j 0. +0.j 0. +0.j 0. +0.j 0. +0.j 0. +0.j]\n"
          ]
        }
      ]
    },
    {
      "cell_type": "code",
      "source": [
        "# Second training instance\n",
        "circuit += CCNOT(ancilla_qubit, index_qubit, data_qubit)\n",
        "circuit += CNOT(index_qubit, data_qubit)\n",
        "circuit += H(data_qubit)\n",
        "\n",
        "circuit += CCNOT(ancilla_qubit, index_qubit, data_qubit)\n",
        "circuit += CNOT(index_qubit, data_qubit)\n",
        "circuit += H(data_qubit)\n",
        "\n",
        "circuit += CCNOT(ancilla_qubit, index_qubit, data_qubit)\n",
        "circuit += CNOT(index_qubit, data_qubit)\n",
        "circuit += H(data_qubit)\n",
        "\n",
        "circuit += CCNOT(ancilla_qubit, index_qubit, data_qubit)\n",
        "circuit += CNOT(index_qubit, data_qubit)\n",
        "circuit += H(data_qubit)\n",
        "\n",
        "print('Second training instance = \\n', get_amplitudes(circuit))"
      ],
      "metadata": {
        "colab": {
          "base_uri": "https://localhost:8080/"
        },
        "id": "lsav9y0xAW_Y",
        "outputId": "4e52a1ba-96c6-4878-af69-b25e5d3b5f3f"
      },
      "execution_count": 26,
      "outputs": [
        {
          "output_type": "stream",
          "name": "stdout",
          "text": [
            "Second training instance = \n",
            " [ 0. +0.j  0. +0.j  0. +0.j  0.5+0.j  0.5+0.j  0.5+0.j -0.5+0.j  0. +0.j\n",
            "  0. +0.j  0. +0.j  0. +0.j  0. +0.j  0. +0.j  0. +0.j  0. +0.j  0. +0.j]\n"
          ]
        }
      ]
    },
    {
      "cell_type": "code",
      "source": [
        "circuit += CNOT(index_qubit, class_qubit)\n",
        "#circuit += CNOT(index_qubit, class_qubit)\n",
        "circuit += H(ancilla_qubit)\n",
        "print('Circuit \\n', get_amplitudes(circuit))"
      ],
      "metadata": {
        "colab": {
          "base_uri": "https://localhost:8080/"
        },
        "id": "82W8C6VDBSC5",
        "outputId": "5febda46-efa1-40c2-8c98-b0a276d6e965"
      },
      "execution_count": 27,
      "outputs": [
        {
          "output_type": "stream",
          "name": "stdout",
          "text": [
            "Circuit \n",
            " [ 0.        +0.j  0.        +0.j  0.        +0.j  0.        +0.j\n",
            "  0.70710678+0.j  0.        +0.j  0.        +0.j  0.        +0.j\n",
            "  0.        +0.j  0.        +0.j  0.35355339+0.j -0.35355339+0.j\n",
            "  0.        +0.j  0.        +0.j -0.35355339+0.j -0.35355339+0.j]\n"
          ]
        }
      ]
    },
    {
      "cell_type": "code",
      "source": [
        ""
      ],
      "metadata": {
        "id": "ml1gMZcxB0OW"
      },
      "execution_count": null,
      "outputs": []
    }
  ]
}